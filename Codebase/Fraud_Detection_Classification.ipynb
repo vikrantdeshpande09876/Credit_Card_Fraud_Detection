{
 "cells": [
  {
   "cell_type": "code",
   "execution_count": 116,
   "id": "61d6e2ec",
   "metadata": {},
   "outputs": [
    {
     "name": "stdout",
     "output_type": "stream",
     "text": [
      "<class 'pandas.core.frame.DataFrame'>\n",
      "RangeIndex: 786363 entries, 0 to 786362\n",
      "Data columns (total 29 columns):\n",
      " #   Column                    Non-Null Count   Dtype  \n",
      "---  ------                    --------------   -----  \n",
      " 0   accountNumber             786363 non-null  int64  \n",
      " 1   customerId                786363 non-null  int64  \n",
      " 2   creditLimit               786363 non-null  int64  \n",
      " 3   availableMoney            786363 non-null  float64\n",
      " 4   transactionDateTime       786363 non-null  object \n",
      " 5   transactionAmount         786363 non-null  float64\n",
      " 6   merchantName              786363 non-null  object \n",
      " 7   acqCountry                786363 non-null  object \n",
      " 8   merchantCountryCode       786363 non-null  object \n",
      " 9   posEntryMode              786363 non-null  object \n",
      " 10  posConditionCode          786363 non-null  object \n",
      " 11  merchantCategoryCode      786363 non-null  object \n",
      " 12  currentExpDate            786363 non-null  object \n",
      " 13  accountOpenDate           786363 non-null  object \n",
      " 14  dateOfLastAddressChange   786363 non-null  object \n",
      " 15  cardCVV                   786363 non-null  int64  \n",
      " 16  enteredCVV                786363 non-null  int64  \n",
      " 17  cardLast4Digits           786363 non-null  int64  \n",
      " 18  transactionType           786363 non-null  object \n",
      " 19  echoBuffer                786363 non-null  object \n",
      " 20  currentBalance            786363 non-null  float64\n",
      " 21  merchantCity              786363 non-null  object \n",
      " 22  merchantState             786363 non-null  object \n",
      " 23  merchantZip               786363 non-null  object \n",
      " 24  cardPresent               786363 non-null  bool   \n",
      " 25  posOnPremises             786363 non-null  object \n",
      " 26  recurringAuthInd          786363 non-null  object \n",
      " 27  expirationDateKeyInMatch  786363 non-null  bool   \n",
      " 28  isFraud                   786363 non-null  bool   \n",
      "dtypes: bool(3), float64(3), int64(6), object(17)\n",
      "memory usage: 158.2+ MB\n"
     ]
    }
   ],
   "source": [
    "import pandas as pd, matplotlib.pyplot as plt, re, zipfile\n",
    "from sklearn.preprocessing import LabelEncoder\n",
    "\n",
    "DIR_NAME = '../Data/'\n",
    "ZIP_FILE = 'transactions.zip'\n",
    "FILE_NAME = 'transactions.txt'\n",
    "with zipfile.ZipFile(DIR_NAME+ZIP_FILE, 'r') as zip_ref:\n",
    "    zip_ref.extractall(DIR_NAME)\n",
    "\n",
    "df = pd.read_json(DIR_NAME+FILE_NAME, lines=True)\n",
    "df.info()"
   ]
  },
  {
   "cell_type": "markdown",
   "id": "310de3cf",
   "metadata": {},
   "source": [
    "#### There are no NA values in the dataset that we need to impute/account for"
   ]
  },
  {
   "cell_type": "code",
   "execution_count": 117,
   "id": "f722dceb",
   "metadata": {},
   "outputs": [
    {
     "data": {
      "text/plain": [
       "accountNumber               0\n",
       "customerId                  0\n",
       "creditLimit                 0\n",
       "availableMoney              0\n",
       "transactionDateTime         0\n",
       "transactionAmount           0\n",
       "merchantName                0\n",
       "acqCountry                  0\n",
       "merchantCountryCode         0\n",
       "posEntryMode                0\n",
       "posConditionCode            0\n",
       "merchantCategoryCode        0\n",
       "currentExpDate              0\n",
       "accountOpenDate             0\n",
       "dateOfLastAddressChange     0\n",
       "cardCVV                     0\n",
       "enteredCVV                  0\n",
       "cardLast4Digits             0\n",
       "transactionType             0\n",
       "echoBuffer                  0\n",
       "currentBalance              0\n",
       "merchantCity                0\n",
       "merchantState               0\n",
       "merchantZip                 0\n",
       "cardPresent                 0\n",
       "posOnPremises               0\n",
       "recurringAuthInd            0\n",
       "expirationDateKeyInMatch    0\n",
       "isFraud                     0\n",
       "dtype: int64"
      ]
     },
     "execution_count": 117,
     "metadata": {},
     "output_type": "execute_result"
    }
   ],
   "source": [
    "df.isna().sum()"
   ]
  },
  {
   "cell_type": "code",
   "execution_count": 118,
   "id": "275efc77",
   "metadata": {},
   "outputs": [
    {
     "data": {
      "text/plain": [
       "accountNumber                 5000\n",
       "customerId                    5000\n",
       "creditLimit                     10\n",
       "availableMoney              521915\n",
       "transactionDateTime         776637\n",
       "transactionAmount            66038\n",
       "merchantName                  2490\n",
       "acqCountry                       5\n",
       "merchantCountryCode              5\n",
       "posEntryMode                     6\n",
       "posConditionCode                 4\n",
       "merchantCategoryCode            19\n",
       "currentExpDate                 165\n",
       "accountOpenDate               1820\n",
       "dateOfLastAddressChange       2184\n",
       "cardCVV                        899\n",
       "enteredCVV                     976\n",
       "cardLast4Digits               5245\n",
       "transactionType                  4\n",
       "echoBuffer                       1\n",
       "currentBalance              487318\n",
       "merchantCity                     1\n",
       "merchantState                    1\n",
       "merchantZip                      1\n",
       "cardPresent                      2\n",
       "posOnPremises                    1\n",
       "recurringAuthInd                 1\n",
       "expirationDateKeyInMatch         2\n",
       "isFraud                          2\n",
       "dtype: int64"
      ]
     },
     "execution_count": 118,
     "metadata": {},
     "output_type": "execute_result"
    }
   ],
   "source": [
    "df.nunique()"
   ]
  },
  {
   "cell_type": "markdown",
   "id": "357774df",
   "metadata": {},
   "source": [
    "### Defining the *Levenshtein dissimilarity metric* when there's a cvv-mismatch case\n",
    "\n",
    "Rather than just binary non-equality, check score of mismatch: a single digit wrong might be just a minor blunder."
   ]
  },
  {
   "cell_type": "code",
   "execution_count": 119,
   "id": "cd3e08d0",
   "metadata": {},
   "outputs": [],
   "source": [
    "import numpy as np\n",
    "def levenshtein_distance(s1, s2):\n",
    "    r = len(s1)+1\n",
    "    c = len(s2)+1\n",
    "    distance = np.zeros((r,c),dtype = int)\n",
    "\n",
    "    for i in range(1, r):\n",
    "        for k in range(1,c):\n",
    "            distance[i][0] = i\n",
    "            distance[0][k] = k\n",
    "            \n",
    "    for col in range(1, c):\n",
    "        for row in range(1, r):\n",
    "            if s1[row-1]==s2[col-1]:\n",
    "                cost = 0\n",
    "            else:\n",
    "                cost = 2\n",
    "            distance[row][col] = min(distance[row-1][col] + 1,      # Cost of deletions\n",
    "                                 distance[row][col-1] + 1,          # Cost of insertions\n",
    "                                 distance[row-1][col-1] + cost)     # Cost of substitutions\n",
    "    return distance[row][col] / (len(s1)+len(s2))\n",
    "\n"
   ]
  },
  {
   "cell_type": "markdown",
   "id": "eda134d0",
   "metadata": {},
   "source": [
    "### Engineer some time-dependent features and one for anomolous card-entry"
   ]
  },
  {
   "cell_type": "code",
   "execution_count": 120,
   "id": "ee5fb63a",
   "metadata": {},
   "outputs": [
    {
     "ename": "KeyboardInterrupt",
     "evalue": "",
     "output_type": "error",
     "traceback": [
      "\u001b[1;31m---------------------------------------------------------------------------\u001b[0m",
      "\u001b[1;31mKeyboardInterrupt\u001b[0m                         Traceback (most recent call last)",
      "\u001b[1;32m<ipython-input-120-bc57926d37eb>\u001b[0m in \u001b[0;36m<module>\u001b[1;34m\u001b[0m\n\u001b[0;32m     24\u001b[0m \u001b[0mdf\u001b[0m\u001b[1;33m[\u001b[0m\u001b[1;34m'cardCVV'\u001b[0m\u001b[1;33m]\u001b[0m \u001b[1;33m=\u001b[0m \u001b[0mdf\u001b[0m\u001b[1;33m[\u001b[0m\u001b[1;34m'cardCVV'\u001b[0m\u001b[1;33m]\u001b[0m\u001b[1;33m.\u001b[0m\u001b[0mastype\u001b[0m\u001b[1;33m(\u001b[0m\u001b[0mstr\u001b[0m\u001b[1;33m)\u001b[0m\u001b[1;33m\u001b[0m\u001b[1;33m\u001b[0m\u001b[0m\n\u001b[0;32m     25\u001b[0m \u001b[0mdf\u001b[0m\u001b[1;33m[\u001b[0m\u001b[1;34m'enteredCVV'\u001b[0m\u001b[1;33m]\u001b[0m \u001b[1;33m=\u001b[0m \u001b[0mdf\u001b[0m\u001b[1;33m[\u001b[0m\u001b[1;34m'enteredCVV'\u001b[0m\u001b[1;33m]\u001b[0m\u001b[1;33m.\u001b[0m\u001b[0mastype\u001b[0m\u001b[1;33m(\u001b[0m\u001b[0mstr\u001b[0m\u001b[1;33m)\u001b[0m\u001b[1;33m\u001b[0m\u001b[1;33m\u001b[0m\u001b[0m\n\u001b[1;32m---> 26\u001b[1;33m \u001b[0mdf\u001b[0m\u001b[1;33m[\u001b[0m\u001b[1;34m'cvvMismatchScore'\u001b[0m\u001b[1;33m]\u001b[0m \u001b[1;33m=\u001b[0m \u001b[0mdf\u001b[0m\u001b[1;33m.\u001b[0m\u001b[0mapply\u001b[0m\u001b[1;33m(\u001b[0m\u001b[1;32mlambda\u001b[0m \u001b[0mx\u001b[0m \u001b[1;33m:\u001b[0m \u001b[0mlevenshtein_distance\u001b[0m\u001b[1;33m(\u001b[0m\u001b[0mx\u001b[0m\u001b[1;33m.\u001b[0m\u001b[0mcardCVV\u001b[0m\u001b[1;33m,\u001b[0m \u001b[0mx\u001b[0m\u001b[1;33m.\u001b[0m\u001b[0menteredCVV\u001b[0m\u001b[1;33m)\u001b[0m\u001b[1;33m,\u001b[0m \u001b[0maxis\u001b[0m\u001b[1;33m=\u001b[0m\u001b[1;36m1\u001b[0m\u001b[1;33m)\u001b[0m\u001b[1;33m\u001b[0m\u001b[1;33m\u001b[0m\u001b[0m\n\u001b[0m",
      "\u001b[1;32mc:\\Users\\vikra\\anaconda3\\lib\\site-packages\\pandas\\core\\frame.py\u001b[0m in \u001b[0;36mapply\u001b[1;34m(self, func, axis, raw, result_type, args, **kwds)\u001b[0m\n\u001b[0;32m   7766\u001b[0m             \u001b[0mkwds\u001b[0m\u001b[1;33m=\u001b[0m\u001b[0mkwds\u001b[0m\u001b[1;33m,\u001b[0m\u001b[1;33m\u001b[0m\u001b[1;33m\u001b[0m\u001b[0m\n\u001b[0;32m   7767\u001b[0m         )\n\u001b[1;32m-> 7768\u001b[1;33m         \u001b[1;32mreturn\u001b[0m \u001b[0mop\u001b[0m\u001b[1;33m.\u001b[0m\u001b[0mget_result\u001b[0m\u001b[1;33m(\u001b[0m\u001b[1;33m)\u001b[0m\u001b[1;33m\u001b[0m\u001b[1;33m\u001b[0m\u001b[0m\n\u001b[0m\u001b[0;32m   7769\u001b[0m \u001b[1;33m\u001b[0m\u001b[0m\n\u001b[0;32m   7770\u001b[0m     \u001b[1;32mdef\u001b[0m \u001b[0mapplymap\u001b[0m\u001b[1;33m(\u001b[0m\u001b[0mself\u001b[0m\u001b[1;33m,\u001b[0m \u001b[0mfunc\u001b[0m\u001b[1;33m,\u001b[0m \u001b[0mna_action\u001b[0m\u001b[1;33m:\u001b[0m \u001b[0mOptional\u001b[0m\u001b[1;33m[\u001b[0m\u001b[0mstr\u001b[0m\u001b[1;33m]\u001b[0m \u001b[1;33m=\u001b[0m \u001b[1;32mNone\u001b[0m\u001b[1;33m)\u001b[0m \u001b[1;33m->\u001b[0m \u001b[0mDataFrame\u001b[0m\u001b[1;33m:\u001b[0m\u001b[1;33m\u001b[0m\u001b[1;33m\u001b[0m\u001b[0m\n",
      "\u001b[1;32mc:\\Users\\vikra\\anaconda3\\lib\\site-packages\\pandas\\core\\apply.py\u001b[0m in \u001b[0;36mget_result\u001b[1;34m(self)\u001b[0m\n\u001b[0;32m    183\u001b[0m             \u001b[1;32mreturn\u001b[0m \u001b[0mself\u001b[0m\u001b[1;33m.\u001b[0m\u001b[0mapply_raw\u001b[0m\u001b[1;33m(\u001b[0m\u001b[1;33m)\u001b[0m\u001b[1;33m\u001b[0m\u001b[1;33m\u001b[0m\u001b[0m\n\u001b[0;32m    184\u001b[0m \u001b[1;33m\u001b[0m\u001b[0m\n\u001b[1;32m--> 185\u001b[1;33m         \u001b[1;32mreturn\u001b[0m \u001b[0mself\u001b[0m\u001b[1;33m.\u001b[0m\u001b[0mapply_standard\u001b[0m\u001b[1;33m(\u001b[0m\u001b[1;33m)\u001b[0m\u001b[1;33m\u001b[0m\u001b[1;33m\u001b[0m\u001b[0m\n\u001b[0m\u001b[0;32m    186\u001b[0m \u001b[1;33m\u001b[0m\u001b[0m\n\u001b[0;32m    187\u001b[0m     \u001b[1;32mdef\u001b[0m \u001b[0mapply_empty_result\u001b[0m\u001b[1;33m(\u001b[0m\u001b[0mself\u001b[0m\u001b[1;33m)\u001b[0m\u001b[1;33m:\u001b[0m\u001b[1;33m\u001b[0m\u001b[1;33m\u001b[0m\u001b[0m\n",
      "\u001b[1;32mc:\\Users\\vikra\\anaconda3\\lib\\site-packages\\pandas\\core\\apply.py\u001b[0m in \u001b[0;36mapply_standard\u001b[1;34m(self)\u001b[0m\n\u001b[0;32m    274\u001b[0m \u001b[1;33m\u001b[0m\u001b[0m\n\u001b[0;32m    275\u001b[0m     \u001b[1;32mdef\u001b[0m \u001b[0mapply_standard\u001b[0m\u001b[1;33m(\u001b[0m\u001b[0mself\u001b[0m\u001b[1;33m)\u001b[0m\u001b[1;33m:\u001b[0m\u001b[1;33m\u001b[0m\u001b[1;33m\u001b[0m\u001b[0m\n\u001b[1;32m--> 276\u001b[1;33m         \u001b[0mresults\u001b[0m\u001b[1;33m,\u001b[0m \u001b[0mres_index\u001b[0m \u001b[1;33m=\u001b[0m \u001b[0mself\u001b[0m\u001b[1;33m.\u001b[0m\u001b[0mapply_series_generator\u001b[0m\u001b[1;33m(\u001b[0m\u001b[1;33m)\u001b[0m\u001b[1;33m\u001b[0m\u001b[1;33m\u001b[0m\u001b[0m\n\u001b[0m\u001b[0;32m    277\u001b[0m \u001b[1;33m\u001b[0m\u001b[0m\n\u001b[0;32m    278\u001b[0m         \u001b[1;31m# wrap results\u001b[0m\u001b[1;33m\u001b[0m\u001b[1;33m\u001b[0m\u001b[1;33m\u001b[0m\u001b[0m\n",
      "\u001b[1;32mc:\\Users\\vikra\\anaconda3\\lib\\site-packages\\pandas\\core\\apply.py\u001b[0m in \u001b[0;36mapply_series_generator\u001b[1;34m(self)\u001b[0m\n\u001b[0;32m    288\u001b[0m             \u001b[1;32mfor\u001b[0m \u001b[0mi\u001b[0m\u001b[1;33m,\u001b[0m \u001b[0mv\u001b[0m \u001b[1;32min\u001b[0m \u001b[0menumerate\u001b[0m\u001b[1;33m(\u001b[0m\u001b[0mseries_gen\u001b[0m\u001b[1;33m)\u001b[0m\u001b[1;33m:\u001b[0m\u001b[1;33m\u001b[0m\u001b[1;33m\u001b[0m\u001b[0m\n\u001b[0;32m    289\u001b[0m                 \u001b[1;31m# ignore SettingWithCopy here in case the user mutates\u001b[0m\u001b[1;33m\u001b[0m\u001b[1;33m\u001b[0m\u001b[1;33m\u001b[0m\u001b[0m\n\u001b[1;32m--> 290\u001b[1;33m                 \u001b[0mresults\u001b[0m\u001b[1;33m[\u001b[0m\u001b[0mi\u001b[0m\u001b[1;33m]\u001b[0m \u001b[1;33m=\u001b[0m \u001b[0mself\u001b[0m\u001b[1;33m.\u001b[0m\u001b[0mf\u001b[0m\u001b[1;33m(\u001b[0m\u001b[0mv\u001b[0m\u001b[1;33m)\u001b[0m\u001b[1;33m\u001b[0m\u001b[1;33m\u001b[0m\u001b[0m\n\u001b[0m\u001b[0;32m    291\u001b[0m                 \u001b[1;32mif\u001b[0m \u001b[0misinstance\u001b[0m\u001b[1;33m(\u001b[0m\u001b[0mresults\u001b[0m\u001b[1;33m[\u001b[0m\u001b[0mi\u001b[0m\u001b[1;33m]\u001b[0m\u001b[1;33m,\u001b[0m \u001b[0mABCSeries\u001b[0m\u001b[1;33m)\u001b[0m\u001b[1;33m:\u001b[0m\u001b[1;33m\u001b[0m\u001b[1;33m\u001b[0m\u001b[0m\n\u001b[0;32m    292\u001b[0m                     \u001b[1;31m# If we have a view on v, we need to make a copy because\u001b[0m\u001b[1;33m\u001b[0m\u001b[1;33m\u001b[0m\u001b[1;33m\u001b[0m\u001b[0m\n",
      "\u001b[1;32m<ipython-input-120-bc57926d37eb>\u001b[0m in \u001b[0;36m<lambda>\u001b[1;34m(x)\u001b[0m\n\u001b[0;32m     24\u001b[0m \u001b[0mdf\u001b[0m\u001b[1;33m[\u001b[0m\u001b[1;34m'cardCVV'\u001b[0m\u001b[1;33m]\u001b[0m \u001b[1;33m=\u001b[0m \u001b[0mdf\u001b[0m\u001b[1;33m[\u001b[0m\u001b[1;34m'cardCVV'\u001b[0m\u001b[1;33m]\u001b[0m\u001b[1;33m.\u001b[0m\u001b[0mastype\u001b[0m\u001b[1;33m(\u001b[0m\u001b[0mstr\u001b[0m\u001b[1;33m)\u001b[0m\u001b[1;33m\u001b[0m\u001b[1;33m\u001b[0m\u001b[0m\n\u001b[0;32m     25\u001b[0m \u001b[0mdf\u001b[0m\u001b[1;33m[\u001b[0m\u001b[1;34m'enteredCVV'\u001b[0m\u001b[1;33m]\u001b[0m \u001b[1;33m=\u001b[0m \u001b[0mdf\u001b[0m\u001b[1;33m[\u001b[0m\u001b[1;34m'enteredCVV'\u001b[0m\u001b[1;33m]\u001b[0m\u001b[1;33m.\u001b[0m\u001b[0mastype\u001b[0m\u001b[1;33m(\u001b[0m\u001b[0mstr\u001b[0m\u001b[1;33m)\u001b[0m\u001b[1;33m\u001b[0m\u001b[1;33m\u001b[0m\u001b[0m\n\u001b[1;32m---> 26\u001b[1;33m \u001b[0mdf\u001b[0m\u001b[1;33m[\u001b[0m\u001b[1;34m'cvvMismatchScore'\u001b[0m\u001b[1;33m]\u001b[0m \u001b[1;33m=\u001b[0m \u001b[0mdf\u001b[0m\u001b[1;33m.\u001b[0m\u001b[0mapply\u001b[0m\u001b[1;33m(\u001b[0m\u001b[1;32mlambda\u001b[0m \u001b[0mx\u001b[0m \u001b[1;33m:\u001b[0m \u001b[0mlevenshtein_distance\u001b[0m\u001b[1;33m(\u001b[0m\u001b[0mx\u001b[0m\u001b[1;33m.\u001b[0m\u001b[0mcardCVV\u001b[0m\u001b[1;33m,\u001b[0m \u001b[0mx\u001b[0m\u001b[1;33m.\u001b[0m\u001b[0menteredCVV\u001b[0m\u001b[1;33m)\u001b[0m\u001b[1;33m,\u001b[0m \u001b[0maxis\u001b[0m\u001b[1;33m=\u001b[0m\u001b[1;36m1\u001b[0m\u001b[1;33m)\u001b[0m\u001b[1;33m\u001b[0m\u001b[1;33m\u001b[0m\u001b[0m\n\u001b[0m",
      "\u001b[1;32mc:\\Users\\vikra\\anaconda3\\lib\\site-packages\\pandas\\core\\generic.py\u001b[0m in \u001b[0;36m__getattr__\u001b[1;34m(self, name)\u001b[0m\n\u001b[0;32m   5462\u001b[0m         \u001b[1;32melse\u001b[0m\u001b[1;33m:\u001b[0m\u001b[1;33m\u001b[0m\u001b[1;33m\u001b[0m\u001b[0m\n\u001b[0;32m   5463\u001b[0m             \u001b[1;32mif\u001b[0m \u001b[0mself\u001b[0m\u001b[1;33m.\u001b[0m\u001b[0m_info_axis\u001b[0m\u001b[1;33m.\u001b[0m\u001b[0m_can_hold_identifiers_and_holds_name\u001b[0m\u001b[1;33m(\u001b[0m\u001b[0mname\u001b[0m\u001b[1;33m)\u001b[0m\u001b[1;33m:\u001b[0m\u001b[1;33m\u001b[0m\u001b[1;33m\u001b[0m\u001b[0m\n\u001b[1;32m-> 5464\u001b[1;33m                 \u001b[1;32mreturn\u001b[0m \u001b[0mself\u001b[0m\u001b[1;33m[\u001b[0m\u001b[0mname\u001b[0m\u001b[1;33m]\u001b[0m\u001b[1;33m\u001b[0m\u001b[1;33m\u001b[0m\u001b[0m\n\u001b[0m\u001b[0;32m   5465\u001b[0m             \u001b[1;32mreturn\u001b[0m \u001b[0mobject\u001b[0m\u001b[1;33m.\u001b[0m\u001b[0m__getattribute__\u001b[0m\u001b[1;33m(\u001b[0m\u001b[0mself\u001b[0m\u001b[1;33m,\u001b[0m \u001b[0mname\u001b[0m\u001b[1;33m)\u001b[0m\u001b[1;33m\u001b[0m\u001b[1;33m\u001b[0m\u001b[0m\n\u001b[0;32m   5466\u001b[0m \u001b[1;33m\u001b[0m\u001b[0m\n",
      "\u001b[1;32mc:\\Users\\vikra\\anaconda3\\lib\\site-packages\\pandas\\core\\series.py\u001b[0m in \u001b[0;36m__getitem__\u001b[1;34m(self, key)\u001b[0m\n\u001b[0;32m    851\u001b[0m \u001b[1;33m\u001b[0m\u001b[0m\n\u001b[0;32m    852\u001b[0m         \u001b[1;32melif\u001b[0m \u001b[0mkey_is_scalar\u001b[0m\u001b[1;33m:\u001b[0m\u001b[1;33m\u001b[0m\u001b[1;33m\u001b[0m\u001b[0m\n\u001b[1;32m--> 853\u001b[1;33m             \u001b[1;32mreturn\u001b[0m \u001b[0mself\u001b[0m\u001b[1;33m.\u001b[0m\u001b[0m_get_value\u001b[0m\u001b[1;33m(\u001b[0m\u001b[0mkey\u001b[0m\u001b[1;33m)\u001b[0m\u001b[1;33m\u001b[0m\u001b[1;33m\u001b[0m\u001b[0m\n\u001b[0m\u001b[0;32m    854\u001b[0m \u001b[1;33m\u001b[0m\u001b[0m\n\u001b[0;32m    855\u001b[0m         \u001b[1;32mif\u001b[0m \u001b[0mis_hashable\u001b[0m\u001b[1;33m(\u001b[0m\u001b[0mkey\u001b[0m\u001b[1;33m)\u001b[0m\u001b[1;33m:\u001b[0m\u001b[1;33m\u001b[0m\u001b[1;33m\u001b[0m\u001b[0m\n",
      "\u001b[1;32mc:\\Users\\vikra\\anaconda3\\lib\\site-packages\\pandas\\core\\series.py\u001b[0m in \u001b[0;36m_get_value\u001b[1;34m(self, label, takeable)\u001b[0m\n\u001b[0;32m    959\u001b[0m \u001b[1;33m\u001b[0m\u001b[0m\n\u001b[0;32m    960\u001b[0m         \u001b[1;31m# Similar to Index.get_value, but we do not fall back to positional\u001b[0m\u001b[1;33m\u001b[0m\u001b[1;33m\u001b[0m\u001b[1;33m\u001b[0m\u001b[0m\n\u001b[1;32m--> 961\u001b[1;33m         \u001b[0mloc\u001b[0m \u001b[1;33m=\u001b[0m \u001b[0mself\u001b[0m\u001b[1;33m.\u001b[0m\u001b[0mindex\u001b[0m\u001b[1;33m.\u001b[0m\u001b[0mget_loc\u001b[0m\u001b[1;33m(\u001b[0m\u001b[0mlabel\u001b[0m\u001b[1;33m)\u001b[0m\u001b[1;33m\u001b[0m\u001b[1;33m\u001b[0m\u001b[0m\n\u001b[0m\u001b[0;32m    962\u001b[0m         \u001b[1;32mreturn\u001b[0m \u001b[0mself\u001b[0m\u001b[1;33m.\u001b[0m\u001b[0mindex\u001b[0m\u001b[1;33m.\u001b[0m\u001b[0m_get_values_for_loc\u001b[0m\u001b[1;33m(\u001b[0m\u001b[0mself\u001b[0m\u001b[1;33m,\u001b[0m \u001b[0mloc\u001b[0m\u001b[1;33m,\u001b[0m \u001b[0mlabel\u001b[0m\u001b[1;33m)\u001b[0m\u001b[1;33m\u001b[0m\u001b[1;33m\u001b[0m\u001b[0m\n\u001b[0;32m    963\u001b[0m \u001b[1;33m\u001b[0m\u001b[0m\n",
      "\u001b[1;32mc:\\Users\\vikra\\anaconda3\\lib\\site-packages\\pandas\\core\\indexes\\base.py\u001b[0m in \u001b[0;36mget_loc\u001b[1;34m(self, key, method, tolerance)\u001b[0m\n\u001b[0;32m   3034\u001b[0m     \u001b[1;31m# Indexing Methods\u001b[0m\u001b[1;33m\u001b[0m\u001b[1;33m\u001b[0m\u001b[1;33m\u001b[0m\u001b[0m\n\u001b[0;32m   3035\u001b[0m \u001b[1;33m\u001b[0m\u001b[0m\n\u001b[1;32m-> 3036\u001b[1;33m     \u001b[1;32mdef\u001b[0m \u001b[0mget_loc\u001b[0m\u001b[1;33m(\u001b[0m\u001b[0mself\u001b[0m\u001b[1;33m,\u001b[0m \u001b[0mkey\u001b[0m\u001b[1;33m,\u001b[0m \u001b[0mmethod\u001b[0m\u001b[1;33m=\u001b[0m\u001b[1;32mNone\u001b[0m\u001b[1;33m,\u001b[0m \u001b[0mtolerance\u001b[0m\u001b[1;33m=\u001b[0m\u001b[1;32mNone\u001b[0m\u001b[1;33m)\u001b[0m\u001b[1;33m:\u001b[0m\u001b[1;33m\u001b[0m\u001b[1;33m\u001b[0m\u001b[0m\n\u001b[0m\u001b[0;32m   3037\u001b[0m         \"\"\"\n\u001b[0;32m   3038\u001b[0m         \u001b[0mGet\u001b[0m \u001b[0minteger\u001b[0m \u001b[0mlocation\u001b[0m\u001b[1;33m,\u001b[0m \u001b[0mslice\u001b[0m \u001b[1;32mor\u001b[0m \u001b[0mboolean\u001b[0m \u001b[0mmask\u001b[0m \u001b[1;32mfor\u001b[0m \u001b[0mrequested\u001b[0m \u001b[0mlabel\u001b[0m\u001b[1;33m.\u001b[0m\u001b[1;33m\u001b[0m\u001b[1;33m\u001b[0m\u001b[0m\n",
      "\u001b[1;31mKeyboardInterrupt\u001b[0m: "
     ]
    }
   ],
   "source": [
    "def add_time_dependent_features(df, col, include_time_fields=False):\n",
    "    df[col+'Year'] = df[col].dt.year\n",
    "    df[col+'Month'] = df[col].dt.month\n",
    "    df[col+'Day'] = df[col].dt.day\n",
    "    df[col+'DayOfWeek'] = df[col].dt.weekday\n",
    "    df[col+'Date'] = df[col].dt.date\n",
    "    if include_time_fields:\n",
    "        df[col+'Hour'] = df[col].dt.hour\n",
    "        df[col+'Min'] = df[col].dt.minute\n",
    "    df = df.drop(col, axis=1)\n",
    "    return df\n",
    "\n",
    "df['transactionDt'] = pd.to_datetime(df['transactionDateTime'])\n",
    "add_time_dependent_features(df, 'transactionDt', True)\n",
    "\n",
    "df['accountOpenDt'] = pd.to_datetime(df['accountOpenDate'])\n",
    "df = add_time_dependent_features(df, 'accountOpenDt')\n",
    "\n",
    "df['lastAddressChangeDt'] = pd.to_datetime(df['dateOfLastAddressChange'])\n",
    "df = add_time_dependent_features(df, 'lastAddressChangeDt')\n",
    "\n",
    "#df['cvvMismatch'] = df['cardCVV']!=df['enteredCVV']\n",
    "# Rather than just binary non-equality, check score of mismatch: a single digit wrong might be just a minor blunder\n",
    "df['cardCVV'] = df['cardCVV'].astype(str)\n",
    "df['enteredCVV'] = df['enteredCVV'].astype(str)\n",
    "df['cvvMismatchScore'] = df.apply(lambda x : levenshtein_distance(x.cardCVV, x.enteredCVV), axis=1)"
   ]
  },
  {
   "cell_type": "markdown",
   "id": "fc512189",
   "metadata": {},
   "source": [
    "### Remove the features which have just one categorical value"
   ]
  },
  {
   "cell_type": "code",
   "execution_count": null,
   "id": "3ed4efaa",
   "metadata": {},
   "outputs": [
    {
     "name": "stdout",
     "output_type": "stream",
     "text": [
      "Columns that will be dropped: ['echoBuffer' 'merchantCity' 'merchantState' 'merchantZip' 'posOnPremises'\n",
      " 'recurringAuthInd' 'transactionDtYear']\n"
     ]
    }
   ],
   "source": [
    "nvalue_counts_df = df.nunique()\n",
    "columns_to_drop = nvalue_counts_df.index[nvalue_counts_df.values==1]\n",
    "print(f'Columns that will be dropped: {columns_to_drop.values}')\n",
    "\n",
    "\n",
    "main_df = df.copy(deep=True)\n",
    "main_df = main_df.drop(labels=columns_to_drop, axis=1)"
   ]
  },
  {
   "cell_type": "markdown",
   "id": "c654f78d",
   "metadata": {},
   "source": [
    "## 4 Transaction types\n",
    "> `Address-verification` (of course) is done without any payment\n",
    "\n",
    "> `Purchases` and `Reversals` have a wide range of payment-amounts transacted\n",
    "\n",
    "> There's also a blank string which we'll impute with `UNK`"
   ]
  },
  {
   "cell_type": "code",
   "execution_count": null,
   "id": "ce85b380",
   "metadata": {},
   "outputs": [
    {
     "data": {
      "text/html": [
       "<div>\n",
       "<style scoped>\n",
       "    .dataframe tbody tr th:only-of-type {\n",
       "        vertical-align: middle;\n",
       "    }\n",
       "\n",
       "    .dataframe tbody tr th {\n",
       "        vertical-align: top;\n",
       "    }\n",
       "\n",
       "    .dataframe thead tr th {\n",
       "        text-align: left;\n",
       "    }\n",
       "</style>\n",
       "<table border=\"1\" class=\"dataframe\">\n",
       "  <thead>\n",
       "    <tr>\n",
       "      <th></th>\n",
       "      <th>transactionType</th>\n",
       "      <th colspan=\"4\" halign=\"left\">transactionAmount</th>\n",
       "    </tr>\n",
       "    <tr>\n",
       "      <th></th>\n",
       "      <th></th>\n",
       "      <th>count</th>\n",
       "      <th>nunique</th>\n",
       "      <th>min</th>\n",
       "      <th>max</th>\n",
       "    </tr>\n",
       "  </thead>\n",
       "  <tbody>\n",
       "    <tr>\n",
       "      <th>0</th>\n",
       "      <td>ADDRESS_VERIFICATION</td>\n",
       "      <td>20169</td>\n",
       "      <td>1</td>\n",
       "      <td>0.00</td>\n",
       "      <td>0.00</td>\n",
       "    </tr>\n",
       "    <tr>\n",
       "      <th>1</th>\n",
       "      <td>PURCHASE</td>\n",
       "      <td>745193</td>\n",
       "      <td>66011</td>\n",
       "      <td>0.00</td>\n",
       "      <td>2011.54</td>\n",
       "    </tr>\n",
       "    <tr>\n",
       "      <th>2</th>\n",
       "      <td>REVERSAL</td>\n",
       "      <td>20303</td>\n",
       "      <td>14450</td>\n",
       "      <td>0.00</td>\n",
       "      <td>1435.64</td>\n",
       "    </tr>\n",
       "    <tr>\n",
       "      <th>3</th>\n",
       "      <td>UNK</td>\n",
       "      <td>698</td>\n",
       "      <td>685</td>\n",
       "      <td>0.11</td>\n",
       "      <td>1135.64</td>\n",
       "    </tr>\n",
       "  </tbody>\n",
       "</table>\n",
       "</div>"
      ],
      "text/plain": [
       "        transactionType transactionAmount                       \n",
       "                                    count nunique   min      max\n",
       "0  ADDRESS_VERIFICATION             20169       1  0.00     0.00\n",
       "1              PURCHASE            745193   66011  0.00  2011.54\n",
       "2              REVERSAL             20303   14450  0.00  1435.64\n",
       "3                   UNK               698     685  0.11  1135.64"
      ]
     },
     "execution_count": 69,
     "metadata": {},
     "output_type": "execute_result"
    }
   ],
   "source": [
    "main_df['transactionType'] = main_df['transactionType'].replace(r'^\\s*$', 'UNK', regex=True)\n",
    "\n",
    "main_df[['transactionAmount','transactionType']].groupby(by=['transactionType'], as_index=False).agg({'transactionAmount':['count','nunique','min','max']})"
   ]
  },
  {
   "cell_type": "code",
   "execution_count": null,
   "metadata": {},
   "outputs": [],
   "source": [
    "import plotly.express as px\n",
    "fig = px.histogram( main_df, x='transactionAmount', color='transactionType', title='Histograms of Trans-Amts for different Trans-types' )\n",
    "fig.show()\n",
    "\n",
    "print('!!! We see Power-law distributions with long right tails. Most transactions have low amounts. !!!')"
   ]
  },
  {
   "cell_type": "markdown",
   "id": "a5a604ef",
   "metadata": {},
   "source": [
    "### Identifying reversal transactions that might've occured after disputes\n",
    "\n",
    "We'll be looking at pairwise transactions captured for a customer at a specific merchant.\n",
    "\n",
    "Our final report will contain:\n",
    "\n",
    "> The first-transaction being `PURCHASE` and the second must be marked as `REVERSAL`\n",
    "\n",
    "> Both transactions will be for the same customer at the same merchant, and of the same amount."
   ]
  },
  {
   "cell_type": "code",
   "execution_count": null,
   "id": "e8e70f85",
   "metadata": {},
   "outputs": [
    {
     "data": {
      "text/html": [
       "<div>\n",
       "<style scoped>\n",
       "    .dataframe tbody tr th:only-of-type {\n",
       "        vertical-align: middle;\n",
       "    }\n",
       "\n",
       "    .dataframe tbody tr th {\n",
       "        vertical-align: top;\n",
       "    }\n",
       "\n",
       "    .dataframe thead th {\n",
       "        text-align: right;\n",
       "    }\n",
       "</style>\n",
       "<table border=\"1\" class=\"dataframe\">\n",
       "  <thead>\n",
       "    <tr style=\"text-align: right;\">\n",
       "      <th></th>\n",
       "      <th>customerId</th>\n",
       "      <th>transactionDtDate</th>\n",
       "      <th>transactionAmount</th>\n",
       "      <th>merchantName</th>\n",
       "      <th>transactionType</th>\n",
       "      <th>cardPresent</th>\n",
       "      <th>isFraud</th>\n",
       "      <th>nextTransAmt</th>\n",
       "      <th>nextTransDate</th>\n",
       "      <th>nextMerchantName</th>\n",
       "      <th>nextTransType</th>\n",
       "      <th>nextIsFraud</th>\n",
       "      <th>durationBetweenTrans</th>\n",
       "    </tr>\n",
       "  </thead>\n",
       "  <tbody>\n",
       "    <tr>\n",
       "      <th>541963</th>\n",
       "      <td>100088067</td>\n",
       "      <td>2016-11-20</td>\n",
       "      <td>22.32</td>\n",
       "      <td>AMC #79863</td>\n",
       "      <td>PURCHASE</td>\n",
       "      <td>True</td>\n",
       "      <td>False</td>\n",
       "      <td>22.32</td>\n",
       "      <td>2016-11-20</td>\n",
       "      <td>AMC #79863</td>\n",
       "      <td>REVERSAL</td>\n",
       "      <td>False</td>\n",
       "      <td>0</td>\n",
       "    </tr>\n",
       "    <tr>\n",
       "      <th>87919</th>\n",
       "      <td>100328049</td>\n",
       "      <td>2016-01-15</td>\n",
       "      <td>43.74</td>\n",
       "      <td>Lyft</td>\n",
       "      <td>PURCHASE</td>\n",
       "      <td>False</td>\n",
       "      <td>False</td>\n",
       "      <td>43.74</td>\n",
       "      <td>2016-01-15</td>\n",
       "      <td>Lyft</td>\n",
       "      <td>REVERSAL</td>\n",
       "      <td>False</td>\n",
       "      <td>0</td>\n",
       "    </tr>\n",
       "    <tr>\n",
       "      <th>87935</th>\n",
       "      <td>100328049</td>\n",
       "      <td>2016-03-24</td>\n",
       "      <td>284.97</td>\n",
       "      <td>McDonalds #423357</td>\n",
       "      <td>PURCHASE</td>\n",
       "      <td>True</td>\n",
       "      <td>False</td>\n",
       "      <td>284.97</td>\n",
       "      <td>2016-03-26</td>\n",
       "      <td>McDonalds #423357</td>\n",
       "      <td>REVERSAL</td>\n",
       "      <td>False</td>\n",
       "      <td>2</td>\n",
       "    </tr>\n",
       "    <tr>\n",
       "      <th>151496</th>\n",
       "      <td>100737756</td>\n",
       "      <td>2016-05-30</td>\n",
       "      <td>93.67</td>\n",
       "      <td>34th BBQ #436606</td>\n",
       "      <td>PURCHASE</td>\n",
       "      <td>True</td>\n",
       "      <td>False</td>\n",
       "      <td>93.67</td>\n",
       "      <td>2016-06-06</td>\n",
       "      <td>34th BBQ #436606</td>\n",
       "      <td>REVERSAL</td>\n",
       "      <td>False</td>\n",
       "      <td>7</td>\n",
       "    </tr>\n",
       "    <tr>\n",
       "      <th>151534</th>\n",
       "      <td>100737756</td>\n",
       "      <td>2016-08-11</td>\n",
       "      <td>501.29</td>\n",
       "      <td>Best Bistro #262998</td>\n",
       "      <td>PURCHASE</td>\n",
       "      <td>True</td>\n",
       "      <td>False</td>\n",
       "      <td>501.29</td>\n",
       "      <td>2016-08-24</td>\n",
       "      <td>Best Bistro #262998</td>\n",
       "      <td>REVERSAL</td>\n",
       "      <td>False</td>\n",
       "      <td>13</td>\n",
       "    </tr>\n",
       "    <tr>\n",
       "      <th>...</th>\n",
       "      <td>...</td>\n",
       "      <td>...</td>\n",
       "      <td>...</td>\n",
       "      <td>...</td>\n",
       "      <td>...</td>\n",
       "      <td>...</td>\n",
       "      <td>...</td>\n",
       "      <td>...</td>\n",
       "      <td>...</td>\n",
       "      <td>...</td>\n",
       "      <td>...</td>\n",
       "      <td>...</td>\n",
       "      <td>...</td>\n",
       "    </tr>\n",
       "    <tr>\n",
       "      <th>545580</th>\n",
       "      <td>999258704</td>\n",
       "      <td>2016-09-02</td>\n",
       "      <td>72.93</td>\n",
       "      <td>gap.com</td>\n",
       "      <td>PURCHASE</td>\n",
       "      <td>False</td>\n",
       "      <td>False</td>\n",
       "      <td>72.93</td>\n",
       "      <td>2016-09-02</td>\n",
       "      <td>gap.com</td>\n",
       "      <td>REVERSAL</td>\n",
       "      <td>False</td>\n",
       "      <td>0</td>\n",
       "    </tr>\n",
       "    <tr>\n",
       "      <th>670027</th>\n",
       "      <td>999283629</td>\n",
       "      <td>2016-04-09</td>\n",
       "      <td>247.40</td>\n",
       "      <td>Delta Airlines</td>\n",
       "      <td>PURCHASE</td>\n",
       "      <td>False</td>\n",
       "      <td>False</td>\n",
       "      <td>247.40</td>\n",
       "      <td>2016-05-01</td>\n",
       "      <td>Delta Airlines</td>\n",
       "      <td>REVERSAL</td>\n",
       "      <td>False</td>\n",
       "      <td>22</td>\n",
       "    </tr>\n",
       "    <tr>\n",
       "      <th>670108</th>\n",
       "      <td>999283629</td>\n",
       "      <td>2016-11-14</td>\n",
       "      <td>150.58</td>\n",
       "      <td>Franks Sandwitch Bar</td>\n",
       "      <td>PURCHASE</td>\n",
       "      <td>True</td>\n",
       "      <td>False</td>\n",
       "      <td>150.58</td>\n",
       "      <td>2016-11-19</td>\n",
       "      <td>Franks Sandwitch Bar</td>\n",
       "      <td>REVERSAL</td>\n",
       "      <td>False</td>\n",
       "      <td>5</td>\n",
       "    </tr>\n",
       "    <tr>\n",
       "      <th>670051</th>\n",
       "      <td>999283629</td>\n",
       "      <td>2016-06-01</td>\n",
       "      <td>96.56</td>\n",
       "      <td>Lyft</td>\n",
       "      <td>PURCHASE</td>\n",
       "      <td>False</td>\n",
       "      <td>False</td>\n",
       "      <td>96.56</td>\n",
       "      <td>2016-06-07</td>\n",
       "      <td>Lyft</td>\n",
       "      <td>REVERSAL</td>\n",
       "      <td>False</td>\n",
       "      <td>6</td>\n",
       "    </tr>\n",
       "    <tr>\n",
       "      <th>670084</th>\n",
       "      <td>999283629</td>\n",
       "      <td>2016-09-15</td>\n",
       "      <td>407.23</td>\n",
       "      <td>apple.com</td>\n",
       "      <td>PURCHASE</td>\n",
       "      <td>False</td>\n",
       "      <td>False</td>\n",
       "      <td>407.23</td>\n",
       "      <td>2016-10-03</td>\n",
       "      <td>apple.com</td>\n",
       "      <td>REVERSAL</td>\n",
       "      <td>False</td>\n",
       "      <td>18</td>\n",
       "    </tr>\n",
       "  </tbody>\n",
       "</table>\n",
       "<p>17758 rows × 13 columns</p>\n",
       "</div>"
      ],
      "text/plain": [
       "        customerId transactionDtDate  transactionAmount          merchantName  \\\n",
       "541963   100088067        2016-11-20              22.32            AMC #79863   \n",
       "87919    100328049        2016-01-15              43.74                  Lyft   \n",
       "87935    100328049        2016-03-24             284.97     McDonalds #423357   \n",
       "151496   100737756        2016-05-30              93.67      34th BBQ #436606   \n",
       "151534   100737756        2016-08-11             501.29   Best Bistro #262998   \n",
       "...            ...               ...                ...                   ...   \n",
       "545580   999258704        2016-09-02              72.93               gap.com   \n",
       "670027   999283629        2016-04-09             247.40        Delta Airlines   \n",
       "670108   999283629        2016-11-14             150.58  Franks Sandwitch Bar   \n",
       "670051   999283629        2016-06-01              96.56                  Lyft   \n",
       "670084   999283629        2016-09-15             407.23             apple.com   \n",
       "\n",
       "       transactionType  cardPresent  isFraud  nextTransAmt nextTransDate  \\\n",
       "541963        PURCHASE         True    False         22.32    2016-11-20   \n",
       "87919         PURCHASE        False    False         43.74    2016-01-15   \n",
       "87935         PURCHASE         True    False        284.97    2016-03-26   \n",
       "151496        PURCHASE         True    False         93.67    2016-06-06   \n",
       "151534        PURCHASE         True    False        501.29    2016-08-24   \n",
       "...                ...          ...      ...           ...           ...   \n",
       "545580        PURCHASE        False    False         72.93    2016-09-02   \n",
       "670027        PURCHASE        False    False        247.40    2016-05-01   \n",
       "670108        PURCHASE         True    False        150.58    2016-11-19   \n",
       "670051        PURCHASE        False    False         96.56    2016-06-07   \n",
       "670084        PURCHASE        False    False        407.23    2016-10-03   \n",
       "\n",
       "            nextMerchantName nextTransType nextIsFraud  durationBetweenTrans  \n",
       "541963            AMC #79863      REVERSAL       False                     0  \n",
       "87919                   Lyft      REVERSAL       False                     0  \n",
       "87935      McDonalds #423357      REVERSAL       False                     2  \n",
       "151496      34th BBQ #436606      REVERSAL       False                     7  \n",
       "151534   Best Bistro #262998      REVERSAL       False                    13  \n",
       "...                      ...           ...         ...                   ...  \n",
       "545580               gap.com      REVERSAL       False                     0  \n",
       "670027        Delta Airlines      REVERSAL       False                    22  \n",
       "670108  Franks Sandwitch Bar      REVERSAL       False                     5  \n",
       "670051                  Lyft      REVERSAL       False                     6  \n",
       "670084             apple.com      REVERSAL       False                    18  \n",
       "\n",
       "[17758 rows x 13 columns]"
      ]
     },
     "execution_count": 70,
     "metadata": {},
     "output_type": "execute_result"
    }
   ],
   "source": [
    "get_shifted_column = lambda df, colname : df.groupby(by=['customerId'], as_index=False)[[colname]].shift(-1)\n",
    "\n",
    "REVERSAL_COLS_TO_VIEW = ['customerId','transactionDtDate','transactionAmount','merchantName','transactionType','cardPresent','isFraud']\n",
    "\n",
    "COLNAMES_T1_VS_T2 = {\n",
    "    'transactionAmount' : 'nextTransAmt',\n",
    "    'transactionDtDate' : 'nextTransDate',\n",
    "    'merchantName' : 'nextMerchantName',\n",
    "    'transactionType' : 'nextTransType',\n",
    "    'isFraud' : 'nextIsFraud'\n",
    "}\n",
    "\n",
    "rev_trans_df = main_df[REVERSAL_COLS_TO_VIEW].sort_values(by=['customerId','merchantName','transactionAmount','transactionDtDate'])\n",
    "\n",
    "for col, newcol in COLNAMES_T1_VS_T2.items():\n",
    "    rev_trans_df[newcol] = get_shifted_column(rev_trans_df, col)\n",
    "\n",
    "\n",
    "rev_trans_df['durationBetweenTrans'] = rev_trans_df[COLNAMES_T1_VS_T2['transactionDtDate']] - rev_trans_df['transactionDtDate']\n",
    "rev_trans_df['durationBetweenTrans'] = (rev_trans_df['durationBetweenTrans'] / np.timedelta64(1, 'D')).convert_dtypes('int')\n",
    "\n",
    "\n",
    "reversals_df = rev_trans_df[\n",
    "    (rev_trans_df['merchantName']==rev_trans_df[COLNAMES_T1_VS_T2['merchantName']])\n",
    "    &\n",
    "    (rev_trans_df['transactionType']=='PURCHASE') & (rev_trans_df[COLNAMES_T1_VS_T2['transactionType']]=='REVERSAL')\n",
    "    &\n",
    "    (rev_trans_df['transactionAmount']==rev_trans_df[COLNAMES_T1_VS_T2['transactionAmount']])\n",
    "    ]\n",
    "\n",
    "reversals_df"
   ]
  },
  {
   "cell_type": "code",
   "execution_count": null,
   "id": "237864e1",
   "metadata": {},
   "outputs": [],
   "source": [
    "fig = px.box(\n",
    "    reversals_df, y='durationBetweenTrans', color='isFraud',\n",
    "    title='Boxplots for duration between Purchase and Reversal transactions'\n",
    "    )\n",
    "fig.show()\n",
    "print('!!! Certainly a Fraudulent transaction is reported and its reversal is performed quicker !!!')"
   ]
  },
  {
   "cell_type": "code",
   "execution_count": null,
   "id": "87c7e6d2",
   "metadata": {},
   "outputs": [
    {
     "data": {
      "text/html": [
       "<div>\n",
       "<style scoped>\n",
       "    .dataframe tbody tr th:only-of-type {\n",
       "        vertical-align: middle;\n",
       "    }\n",
       "\n",
       "    .dataframe tbody tr th {\n",
       "        vertical-align: top;\n",
       "    }\n",
       "\n",
       "    .dataframe thead th {\n",
       "        text-align: right;\n",
       "    }\n",
       "</style>\n",
       "<table border=\"1\" class=\"dataframe\">\n",
       "  <thead>\n",
       "    <tr style=\"text-align: right;\">\n",
       "      <th></th>\n",
       "      <th>customerId</th>\n",
       "      <th>transactionDtDate</th>\n",
       "      <th>transactionAmount</th>\n",
       "      <th>merchantName</th>\n",
       "      <th>transactionType</th>\n",
       "      <th>cardPresent</th>\n",
       "      <th>isFraud</th>\n",
       "      <th>nextTransAmt</th>\n",
       "      <th>nextTransDate</th>\n",
       "      <th>nextMerchantName</th>\n",
       "      <th>nextTransType</th>\n",
       "      <th>nextIsFraud</th>\n",
       "      <th>durationBetweenTrans</th>\n",
       "    </tr>\n",
       "  </thead>\n",
       "  <tbody>\n",
       "    <tr>\n",
       "      <th>670027</th>\n",
       "      <td>999283629</td>\n",
       "      <td>2016-04-09</td>\n",
       "      <td>247.40</td>\n",
       "      <td>Delta Airlines</td>\n",
       "      <td>PURCHASE</td>\n",
       "      <td>False</td>\n",
       "      <td>False</td>\n",
       "      <td>247.40</td>\n",
       "      <td>2016-05-01</td>\n",
       "      <td>Delta Airlines</td>\n",
       "      <td>REVERSAL</td>\n",
       "      <td>False</td>\n",
       "      <td>22</td>\n",
       "    </tr>\n",
       "    <tr>\n",
       "      <th>670108</th>\n",
       "      <td>999283629</td>\n",
       "      <td>2016-11-14</td>\n",
       "      <td>150.58</td>\n",
       "      <td>Franks Sandwitch Bar</td>\n",
       "      <td>PURCHASE</td>\n",
       "      <td>True</td>\n",
       "      <td>False</td>\n",
       "      <td>150.58</td>\n",
       "      <td>2016-11-19</td>\n",
       "      <td>Franks Sandwitch Bar</td>\n",
       "      <td>REVERSAL</td>\n",
       "      <td>False</td>\n",
       "      <td>5</td>\n",
       "    </tr>\n",
       "    <tr>\n",
       "      <th>670051</th>\n",
       "      <td>999283629</td>\n",
       "      <td>2016-06-01</td>\n",
       "      <td>96.56</td>\n",
       "      <td>Lyft</td>\n",
       "      <td>PURCHASE</td>\n",
       "      <td>False</td>\n",
       "      <td>False</td>\n",
       "      <td>96.56</td>\n",
       "      <td>2016-06-07</td>\n",
       "      <td>Lyft</td>\n",
       "      <td>REVERSAL</td>\n",
       "      <td>False</td>\n",
       "      <td>6</td>\n",
       "    </tr>\n",
       "    <tr>\n",
       "      <th>670084</th>\n",
       "      <td>999283629</td>\n",
       "      <td>2016-09-15</td>\n",
       "      <td>407.23</td>\n",
       "      <td>apple.com</td>\n",
       "      <td>PURCHASE</td>\n",
       "      <td>False</td>\n",
       "      <td>False</td>\n",
       "      <td>407.23</td>\n",
       "      <td>2016-10-03</td>\n",
       "      <td>apple.com</td>\n",
       "      <td>REVERSAL</td>\n",
       "      <td>False</td>\n",
       "      <td>18</td>\n",
       "    </tr>\n",
       "  </tbody>\n",
       "</table>\n",
       "</div>"
      ],
      "text/plain": [
       "        customerId transactionDtDate  transactionAmount          merchantName  \\\n",
       "670027   999283629        2016-04-09             247.40        Delta Airlines   \n",
       "670108   999283629        2016-11-14             150.58  Franks Sandwitch Bar   \n",
       "670051   999283629        2016-06-01              96.56                  Lyft   \n",
       "670084   999283629        2016-09-15             407.23             apple.com   \n",
       "\n",
       "       transactionType  cardPresent  isFraud  nextTransAmt nextTransDate  \\\n",
       "670027        PURCHASE        False    False        247.40    2016-05-01   \n",
       "670108        PURCHASE         True    False        150.58    2016-11-19   \n",
       "670051        PURCHASE        False    False         96.56    2016-06-07   \n",
       "670084        PURCHASE        False    False        407.23    2016-10-03   \n",
       "\n",
       "            nextMerchantName nextTransType nextIsFraud  durationBetweenTrans  \n",
       "670027        Delta Airlines      REVERSAL       False                    22  \n",
       "670108  Franks Sandwitch Bar      REVERSAL       False                     5  \n",
       "670051                  Lyft      REVERSAL       False                     6  \n",
       "670084             apple.com      REVERSAL       False                    18  "
      ]
     },
     "execution_count": 71,
     "metadata": {},
     "output_type": "execute_result"
    }
   ],
   "source": [
    "reversals_df[(reversals_df['customerId']==999283629)]"
   ]
  },
  {
   "cell_type": "markdown",
   "id": "dc1f059d",
   "metadata": {},
   "source": [
    "*Example of a reversal scenario:*\n",
    "* Customer purchases apple product worth $407.23, realizes doesn't need item or was a mistake, returns immediately."
   ]
  },
  {
   "cell_type": "markdown",
   "id": "fe2f271c",
   "metadata": {},
   "source": [
    " "
   ]
  },
  {
   "cell_type": "markdown",
   "id": "1557d625",
   "metadata": {},
   "source": [
    "### Identifying multi-swipe transactions that might've occured accidentally on the same day\n",
    "\n",
    "For the same candidate-key (`accountNumber`,`merchantName`) if we see 2 or more transactions occured with same amount, then it's likely to be a multi-swipe situation that isn't outright fraud."
   ]
  },
  {
   "cell_type": "code",
   "execution_count": null,
   "id": "1cd56364",
   "metadata": {},
   "outputs": [
    {
     "data": {
      "text/html": [
       "<div>\n",
       "<style scoped>\n",
       "    .dataframe tbody tr th:only-of-type {\n",
       "        vertical-align: middle;\n",
       "    }\n",
       "\n",
       "    .dataframe tbody tr th {\n",
       "        vertical-align: top;\n",
       "    }\n",
       "\n",
       "    .dataframe thead th {\n",
       "        text-align: right;\n",
       "    }\n",
       "</style>\n",
       "<table border=\"1\" class=\"dataframe\">\n",
       "  <thead>\n",
       "    <tr style=\"text-align: right;\">\n",
       "      <th></th>\n",
       "      <th>customerId</th>\n",
       "      <th>merchantName</th>\n",
       "      <th>transactionDate</th>\n",
       "      <th>transAmtNunique</th>\n",
       "      <th>transAmtCnt</th>\n",
       "    </tr>\n",
       "  </thead>\n",
       "  <tbody>\n",
       "    <tr>\n",
       "      <th>165</th>\n",
       "      <td>100737756</td>\n",
       "      <td>34th BBQ #166379</td>\n",
       "      <td>2016-07-10</td>\n",
       "      <td>1</td>\n",
       "      <td>2</td>\n",
       "    </tr>\n",
       "    <tr>\n",
       "      <th>230</th>\n",
       "      <td>100737756</td>\n",
       "      <td>Franks Deli</td>\n",
       "      <td>2016-01-18</td>\n",
       "      <td>1</td>\n",
       "      <td>3</td>\n",
       "    </tr>\n",
       "    <tr>\n",
       "      <th>284</th>\n",
       "      <td>100737756</td>\n",
       "      <td>South Steakhouse #73819</td>\n",
       "      <td>2016-07-02</td>\n",
       "      <td>1</td>\n",
       "      <td>2</td>\n",
       "    </tr>\n",
       "    <tr>\n",
       "      <th>338</th>\n",
       "      <td>101132326</td>\n",
       "      <td>Regal Cinemas #05791</td>\n",
       "      <td>2016-08-24</td>\n",
       "      <td>1</td>\n",
       "      <td>2</td>\n",
       "    </tr>\n",
       "    <tr>\n",
       "      <th>598</th>\n",
       "      <td>102038975</td>\n",
       "      <td>KFC #304124</td>\n",
       "      <td>2016-05-09</td>\n",
       "      <td>1</td>\n",
       "      <td>2</td>\n",
       "    </tr>\n",
       "    <tr>\n",
       "      <th>...</th>\n",
       "      <td>...</td>\n",
       "      <td>...</td>\n",
       "      <td>...</td>\n",
       "      <td>...</td>\n",
       "      <td>...</td>\n",
       "    </tr>\n",
       "    <tr>\n",
       "      <th>335407</th>\n",
       "      <td>998801944</td>\n",
       "      <td>Popeyes #414406</td>\n",
       "      <td>2016-06-24</td>\n",
       "      <td>1</td>\n",
       "      <td>2</td>\n",
       "    </tr>\n",
       "    <tr>\n",
       "      <th>335421</th>\n",
       "      <td>998801944</td>\n",
       "      <td>Quizno's #784044</td>\n",
       "      <td>2016-07-11</td>\n",
       "      <td>1</td>\n",
       "      <td>2</td>\n",
       "    </tr>\n",
       "    <tr>\n",
       "      <th>335433</th>\n",
       "      <td>998801944</td>\n",
       "      <td>Subway #671015</td>\n",
       "      <td>2016-10-12</td>\n",
       "      <td>1</td>\n",
       "      <td>2</td>\n",
       "    </tr>\n",
       "    <tr>\n",
       "      <th>335440</th>\n",
       "      <td>998801944</td>\n",
       "      <td>Tim Hortons #726208</td>\n",
       "      <td>2016-07-02</td>\n",
       "      <td>1</td>\n",
       "      <td>2</td>\n",
       "    </tr>\n",
       "    <tr>\n",
       "      <th>335488</th>\n",
       "      <td>999086814</td>\n",
       "      <td>EZ Putt Putt #69446</td>\n",
       "      <td>2016-01-06</td>\n",
       "      <td>1</td>\n",
       "      <td>2</td>\n",
       "    </tr>\n",
       "  </tbody>\n",
       "</table>\n",
       "<p>3137 rows × 5 columns</p>\n",
       "</div>"
      ],
      "text/plain": [
       "        customerId             merchantName transactionDate  transAmtNunique  \\\n",
       "165      100737756         34th BBQ #166379      2016-07-10                1   \n",
       "230      100737756              Franks Deli      2016-01-18                1   \n",
       "284      100737756  South Steakhouse #73819      2016-07-02                1   \n",
       "338      101132326     Regal Cinemas #05791      2016-08-24                1   \n",
       "598      102038975              KFC #304124      2016-05-09                1   \n",
       "...            ...                      ...             ...              ...   \n",
       "335407   998801944          Popeyes #414406      2016-06-24                1   \n",
       "335421   998801944         Quizno's #784044      2016-07-11                1   \n",
       "335433   998801944           Subway #671015      2016-10-12                1   \n",
       "335440   998801944      Tim Hortons #726208      2016-07-02                1   \n",
       "335488   999086814      EZ Putt Putt #69446      2016-01-06                1   \n",
       "\n",
       "        transAmtCnt  \n",
       "165               2  \n",
       "230               3  \n",
       "284               2  \n",
       "338               2  \n",
       "598               2  \n",
       "...             ...  \n",
       "335407            2  \n",
       "335421            2  \n",
       "335433            2  \n",
       "335440            2  \n",
       "335488            2  \n",
       "\n",
       "[3137 rows x 5 columns]"
      ]
     },
     "execution_count": 72,
     "metadata": {},
     "output_type": "execute_result"
    }
   ],
   "source": [
    "# SELECT ACC, MERCHANT WHERE [ACC,MERCHANT] TRANSACTION_TYPE!=\"REVERSAL\" AND SAME TRANSACTIONAMOUNT ON SAME DAY\n",
    "transactions_without_reversals = main_df[(main_df['transactionType']!='REVERSAL') & main_df['cardPresent']==True]\n",
    "\n",
    "transactions_without_reversals = transactions_without_reversals.groupby(\n",
    "    by=['customerId','merchantName','transactionDtDate'], as_index=False).agg(\n",
    "        { 'transactionAmount': ['nunique', 'count'] })\n",
    "\n",
    "transactions_without_reversals.columns = ['customerId','merchantName','transactionDate','transAmtNunique','transAmtCnt']\n",
    "\n",
    "multiswipes_df = transactions_without_reversals[\n",
    "    (transactions_without_reversals['transAmtNunique']==1) & \n",
    "    (transactions_without_reversals['transAmtCnt']>1)\n",
    "    ].sort_values(by=['customerId','merchantName','transactionDate'])\n",
    "\n",
    "multiswipes_df"
   ]
  },
  {
   "cell_type": "code",
   "execution_count": null,
   "id": "9e56b018",
   "metadata": {},
   "outputs": [
    {
     "data": {
      "text/html": [
       "<div>\n",
       "<style scoped>\n",
       "    .dataframe tbody tr th:only-of-type {\n",
       "        vertical-align: middle;\n",
       "    }\n",
       "\n",
       "    .dataframe tbody tr th {\n",
       "        vertical-align: top;\n",
       "    }\n",
       "\n",
       "    .dataframe thead th {\n",
       "        text-align: right;\n",
       "    }\n",
       "</style>\n",
       "<table border=\"1\" class=\"dataframe\">\n",
       "  <thead>\n",
       "    <tr style=\"text-align: right;\">\n",
       "      <th></th>\n",
       "      <th>accountNumber</th>\n",
       "      <th>merchantName</th>\n",
       "      <th>transactionAmount</th>\n",
       "      <th>transactionDateTime</th>\n",
       "      <th>cardPresent</th>\n",
       "      <th>isFraud</th>\n",
       "      <th>transactionType</th>\n",
       "    </tr>\n",
       "  </thead>\n",
       "  <tbody>\n",
       "    <tr>\n",
       "      <th>151447</th>\n",
       "      <td>100737756</td>\n",
       "      <td>34th BBQ #166379</td>\n",
       "      <td>272.00</td>\n",
       "      <td>2016-02-23T14:11:06</td>\n",
       "      <td>True</td>\n",
       "      <td>False</td>\n",
       "      <td>PURCHASE</td>\n",
       "    </tr>\n",
       "    <tr>\n",
       "      <th>151517</th>\n",
       "      <td>100737756</td>\n",
       "      <td>34th BBQ #166379</td>\n",
       "      <td>43.25</td>\n",
       "      <td>2016-07-10T14:31:07</td>\n",
       "      <td>True</td>\n",
       "      <td>False</td>\n",
       "      <td>PURCHASE</td>\n",
       "    </tr>\n",
       "    <tr>\n",
       "      <th>151518</th>\n",
       "      <td>100737756</td>\n",
       "      <td>34th BBQ #166379</td>\n",
       "      <td>43.25</td>\n",
       "      <td>2016-07-10T14:32:06</td>\n",
       "      <td>True</td>\n",
       "      <td>False</td>\n",
       "      <td>PURCHASE</td>\n",
       "    </tr>\n",
       "    <tr>\n",
       "      <th>151575</th>\n",
       "      <td>100737756</td>\n",
       "      <td>34th BBQ #166379</td>\n",
       "      <td>331.72</td>\n",
       "      <td>2016-11-05T17:50:30</td>\n",
       "      <td>True</td>\n",
       "      <td>True</td>\n",
       "      <td>PURCHASE</td>\n",
       "    </tr>\n",
       "  </tbody>\n",
       "</table>\n",
       "</div>"
      ],
      "text/plain": [
       "        accountNumber      merchantName  transactionAmount  \\\n",
       "151447      100737756  34th BBQ #166379             272.00   \n",
       "151517      100737756  34th BBQ #166379              43.25   \n",
       "151518      100737756  34th BBQ #166379              43.25   \n",
       "151575      100737756  34th BBQ #166379             331.72   \n",
       "\n",
       "        transactionDateTime  cardPresent  isFraud transactionType  \n",
       "151447  2016-02-23T14:11:06         True    False        PURCHASE  \n",
       "151517  2016-07-10T14:31:07         True    False        PURCHASE  \n",
       "151518  2016-07-10T14:32:06         True    False        PURCHASE  \n",
       "151575  2016-11-05T17:50:30         True     True        PURCHASE  "
      ]
     },
     "execution_count": 10,
     "metadata": {},
     "output_type": "execute_result"
    }
   ],
   "source": [
    "view_cols = ['accountNumber','merchantName','transactionAmount','transactionDateTime','cardPresent','isFraud','transactionType']\n",
    "main_df[\n",
    "    (main_df['accountNumber']==100737756) & \n",
    "    (main_df['merchantName']=='34th BBQ #166379')][view_cols].sort_values(\n",
    "    by=['transactionDateTime'])"
   ]
  },
  {
   "cell_type": "markdown",
   "id": "968d9abb",
   "metadata": {},
   "source": [
    "*Example of a multi-swipe scenario:*\n",
    "* Customer frequently visits \"34th BBQ\" restaurant, but on 10th July 2016, 2 transactions occured within a few seconds of each other.\n",
    "* Neither were reported to be fraudulent."
   ]
  },
  {
   "cell_type": "markdown",
   "id": "7d5ac05d",
   "metadata": {},
   "source": [
    "."
   ]
  },
  {
   "cell_type": "markdown",
   "id": "163d59b5",
   "metadata": {},
   "source": [
    "## Moving on to statistical EDA of the dataset"
   ]
  },
  {
   "cell_type": "markdown",
   "id": "8e246309",
   "metadata": {},
   "source": [
    "### Describe the numerical columns and plot histograms to view distributions\n",
    "All numerical-features seem to follow a power-distribution. Ignore the master-data fields like customerId, accountNumber, credit-card details, etc."
   ]
  },
  {
   "cell_type": "code",
   "execution_count": null,
   "id": "09e88649",
   "metadata": {},
   "outputs": [
    {
     "data": {
      "text/html": [
       "<div>\n",
       "<style scoped>\n",
       "    .dataframe tbody tr th:only-of-type {\n",
       "        vertical-align: middle;\n",
       "    }\n",
       "\n",
       "    .dataframe tbody tr th {\n",
       "        vertical-align: top;\n",
       "    }\n",
       "\n",
       "    .dataframe thead th {\n",
       "        text-align: right;\n",
       "    }\n",
       "</style>\n",
       "<table border=\"1\" class=\"dataframe\">\n",
       "  <thead>\n",
       "    <tr style=\"text-align: right;\">\n",
       "      <th></th>\n",
       "      <th>accountNumber</th>\n",
       "      <th>customerId</th>\n",
       "      <th>creditLimit</th>\n",
       "      <th>availableMoney</th>\n",
       "      <th>transactionAmount</th>\n",
       "      <th>cardLast4Digits</th>\n",
       "      <th>currentBalance</th>\n",
       "      <th>transactionDtMonth</th>\n",
       "      <th>transactionDtDay</th>\n",
       "      <th>transactionDtDayOfWeek</th>\n",
       "      <th>...</th>\n",
       "      <th>transactionDtMin</th>\n",
       "      <th>accountOpenDtYear</th>\n",
       "      <th>accountOpenDtMonth</th>\n",
       "      <th>accountOpenDtDay</th>\n",
       "      <th>accountOpenDtDayOfWeek</th>\n",
       "      <th>lastAddressChangeDtYear</th>\n",
       "      <th>lastAddressChangeDtMonth</th>\n",
       "      <th>lastAddressChangeDtDay</th>\n",
       "      <th>lastAddressChangeDtDayOfWeek</th>\n",
       "      <th>cvvMismatchScore</th>\n",
       "    </tr>\n",
       "  </thead>\n",
       "  <tbody>\n",
       "    <tr>\n",
       "      <th>count</th>\n",
       "      <td>7.863630e+05</td>\n",
       "      <td>7.863630e+05</td>\n",
       "      <td>786363.000000</td>\n",
       "      <td>786363.000000</td>\n",
       "      <td>786363.000000</td>\n",
       "      <td>786363.000000</td>\n",
       "      <td>786363.000000</td>\n",
       "      <td>786363.000000</td>\n",
       "      <td>786363.000000</td>\n",
       "      <td>786363.000000</td>\n",
       "      <td>...</td>\n",
       "      <td>786363.000000</td>\n",
       "      <td>786363.000000</td>\n",
       "      <td>786363.000000</td>\n",
       "      <td>786363.000000</td>\n",
       "      <td>786363.000000</td>\n",
       "      <td>786363.000000</td>\n",
       "      <td>786363.000000</td>\n",
       "      <td>786363.000000</td>\n",
       "      <td>786363.00000</td>\n",
       "      <td>786363.000000</td>\n",
       "    </tr>\n",
       "    <tr>\n",
       "      <th>mean</th>\n",
       "      <td>5.372326e+08</td>\n",
       "      <td>5.372326e+08</td>\n",
       "      <td>10759.464459</td>\n",
       "      <td>6250.725369</td>\n",
       "      <td>136.985791</td>\n",
       "      <td>4757.417799</td>\n",
       "      <td>4508.739089</td>\n",
       "      <td>6.648343</td>\n",
       "      <td>15.732804</td>\n",
       "      <td>3.002529</td>\n",
       "      <td>...</td>\n",
       "      <td>29.518682</td>\n",
       "      <td>2013.548618</td>\n",
       "      <td>7.043133</td>\n",
       "      <td>15.917197</td>\n",
       "      <td>3.082027</td>\n",
       "      <td>2014.804087</td>\n",
       "      <td>6.286028</td>\n",
       "      <td>15.476674</td>\n",
       "      <td>2.99443</td>\n",
       "      <td>0.003346</td>\n",
       "    </tr>\n",
       "    <tr>\n",
       "      <th>std</th>\n",
       "      <td>2.554211e+08</td>\n",
       "      <td>2.554211e+08</td>\n",
       "      <td>11636.174890</td>\n",
       "      <td>8880.783989</td>\n",
       "      <td>147.725569</td>\n",
       "      <td>2996.583810</td>\n",
       "      <td>6457.442068</td>\n",
       "      <td>3.436256</td>\n",
       "      <td>8.780564</td>\n",
       "      <td>1.995858</td>\n",
       "      <td>...</td>\n",
       "      <td>17.325778</td>\n",
       "      <td>1.872314</td>\n",
       "      <td>3.378144</td>\n",
       "      <td>8.752827</td>\n",
       "      <td>1.949832</td>\n",
       "      <td>1.881635</td>\n",
       "      <td>3.373176</td>\n",
       "      <td>8.591262</td>\n",
       "      <td>1.96869</td>\n",
       "      <td>0.037934</td>\n",
       "    </tr>\n",
       "    <tr>\n",
       "      <th>min</th>\n",
       "      <td>1.000881e+08</td>\n",
       "      <td>1.000881e+08</td>\n",
       "      <td>250.000000</td>\n",
       "      <td>-1005.630000</td>\n",
       "      <td>0.000000</td>\n",
       "      <td>0.000000</td>\n",
       "      <td>0.000000</td>\n",
       "      <td>1.000000</td>\n",
       "      <td>1.000000</td>\n",
       "      <td>0.000000</td>\n",
       "      <td>...</td>\n",
       "      <td>0.000000</td>\n",
       "      <td>1989.000000</td>\n",
       "      <td>1.000000</td>\n",
       "      <td>1.000000</td>\n",
       "      <td>0.000000</td>\n",
       "      <td>1989.000000</td>\n",
       "      <td>1.000000</td>\n",
       "      <td>1.000000</td>\n",
       "      <td>0.00000</td>\n",
       "      <td>0.000000</td>\n",
       "    </tr>\n",
       "    <tr>\n",
       "      <th>25%</th>\n",
       "      <td>3.301333e+08</td>\n",
       "      <td>3.301333e+08</td>\n",
       "      <td>5000.000000</td>\n",
       "      <td>1077.420000</td>\n",
       "      <td>33.650000</td>\n",
       "      <td>2178.000000</td>\n",
       "      <td>689.910000</td>\n",
       "      <td>4.000000</td>\n",
       "      <td>8.000000</td>\n",
       "      <td>1.000000</td>\n",
       "      <td>...</td>\n",
       "      <td>15.000000</td>\n",
       "      <td>2013.000000</td>\n",
       "      <td>4.000000</td>\n",
       "      <td>8.000000</td>\n",
       "      <td>1.000000</td>\n",
       "      <td>2014.000000</td>\n",
       "      <td>3.000000</td>\n",
       "      <td>8.000000</td>\n",
       "      <td>1.00000</td>\n",
       "      <td>0.000000</td>\n",
       "    </tr>\n",
       "    <tr>\n",
       "      <th>50%</th>\n",
       "      <td>5.074561e+08</td>\n",
       "      <td>5.074561e+08</td>\n",
       "      <td>7500.000000</td>\n",
       "      <td>3184.860000</td>\n",
       "      <td>87.900000</td>\n",
       "      <td>4733.000000</td>\n",
       "      <td>2451.760000</td>\n",
       "      <td>7.000000</td>\n",
       "      <td>16.000000</td>\n",
       "      <td>3.000000</td>\n",
       "      <td>...</td>\n",
       "      <td>30.000000</td>\n",
       "      <td>2014.000000</td>\n",
       "      <td>7.000000</td>\n",
       "      <td>16.000000</td>\n",
       "      <td>3.000000</td>\n",
       "      <td>2016.000000</td>\n",
       "      <td>6.000000</td>\n",
       "      <td>15.000000</td>\n",
       "      <td>3.00000</td>\n",
       "      <td>0.000000</td>\n",
       "    </tr>\n",
       "    <tr>\n",
       "      <th>75%</th>\n",
       "      <td>7.676200e+08</td>\n",
       "      <td>7.676200e+08</td>\n",
       "      <td>15000.000000</td>\n",
       "      <td>7500.000000</td>\n",
       "      <td>191.480000</td>\n",
       "      <td>7338.000000</td>\n",
       "      <td>5291.095000</td>\n",
       "      <td>10.000000</td>\n",
       "      <td>23.000000</td>\n",
       "      <td>5.000000</td>\n",
       "      <td>...</td>\n",
       "      <td>45.000000</td>\n",
       "      <td>2015.000000</td>\n",
       "      <td>10.000000</td>\n",
       "      <td>23.000000</td>\n",
       "      <td>5.000000</td>\n",
       "      <td>2016.000000</td>\n",
       "      <td>9.000000</td>\n",
       "      <td>23.000000</td>\n",
       "      <td>5.00000</td>\n",
       "      <td>0.000000</td>\n",
       "    </tr>\n",
       "    <tr>\n",
       "      <th>max</th>\n",
       "      <td>9.993896e+08</td>\n",
       "      <td>9.993896e+08</td>\n",
       "      <td>50000.000000</td>\n",
       "      <td>50000.000000</td>\n",
       "      <td>2011.540000</td>\n",
       "      <td>9998.000000</td>\n",
       "      <td>47498.810000</td>\n",
       "      <td>12.000000</td>\n",
       "      <td>31.000000</td>\n",
       "      <td>6.000000</td>\n",
       "      <td>...</td>\n",
       "      <td>59.000000</td>\n",
       "      <td>2015.000000</td>\n",
       "      <td>12.000000</td>\n",
       "      <td>31.000000</td>\n",
       "      <td>6.000000</td>\n",
       "      <td>2016.000000</td>\n",
       "      <td>12.000000</td>\n",
       "      <td>31.000000</td>\n",
       "      <td>6.00000</td>\n",
       "      <td>1.000000</td>\n",
       "    </tr>\n",
       "  </tbody>\n",
       "</table>\n",
       "<p>8 rows × 21 columns</p>\n",
       "</div>"
      ],
      "text/plain": [
       "       accountNumber    customerId    creditLimit  availableMoney  \\\n",
       "count   7.863630e+05  7.863630e+05  786363.000000   786363.000000   \n",
       "mean    5.372326e+08  5.372326e+08   10759.464459     6250.725369   \n",
       "std     2.554211e+08  2.554211e+08   11636.174890     8880.783989   \n",
       "min     1.000881e+08  1.000881e+08     250.000000    -1005.630000   \n",
       "25%     3.301333e+08  3.301333e+08    5000.000000     1077.420000   \n",
       "50%     5.074561e+08  5.074561e+08    7500.000000     3184.860000   \n",
       "75%     7.676200e+08  7.676200e+08   15000.000000     7500.000000   \n",
       "max     9.993896e+08  9.993896e+08   50000.000000    50000.000000   \n",
       "\n",
       "       transactionAmount  cardLast4Digits  currentBalance  transactionDtMonth  \\\n",
       "count      786363.000000    786363.000000   786363.000000       786363.000000   \n",
       "mean          136.985791      4757.417799     4508.739089            6.648343   \n",
       "std           147.725569      2996.583810     6457.442068            3.436256   \n",
       "min             0.000000         0.000000        0.000000            1.000000   \n",
       "25%            33.650000      2178.000000      689.910000            4.000000   \n",
       "50%            87.900000      4733.000000     2451.760000            7.000000   \n",
       "75%           191.480000      7338.000000     5291.095000           10.000000   \n",
       "max          2011.540000      9998.000000    47498.810000           12.000000   \n",
       "\n",
       "       transactionDtDay  transactionDtDayOfWeek  ...  transactionDtMin  \\\n",
       "count     786363.000000           786363.000000  ...     786363.000000   \n",
       "mean          15.732804                3.002529  ...         29.518682   \n",
       "std            8.780564                1.995858  ...         17.325778   \n",
       "min            1.000000                0.000000  ...          0.000000   \n",
       "25%            8.000000                1.000000  ...         15.000000   \n",
       "50%           16.000000                3.000000  ...         30.000000   \n",
       "75%           23.000000                5.000000  ...         45.000000   \n",
       "max           31.000000                6.000000  ...         59.000000   \n",
       "\n",
       "       accountOpenDtYear  accountOpenDtMonth  accountOpenDtDay  \\\n",
       "count      786363.000000       786363.000000     786363.000000   \n",
       "mean         2013.548618            7.043133         15.917197   \n",
       "std             1.872314            3.378144          8.752827   \n",
       "min          1989.000000            1.000000          1.000000   \n",
       "25%          2013.000000            4.000000          8.000000   \n",
       "50%          2014.000000            7.000000         16.000000   \n",
       "75%          2015.000000           10.000000         23.000000   \n",
       "max          2015.000000           12.000000         31.000000   \n",
       "\n",
       "       accountOpenDtDayOfWeek  lastAddressChangeDtYear  \\\n",
       "count           786363.000000            786363.000000   \n",
       "mean                 3.082027              2014.804087   \n",
       "std                  1.949832                 1.881635   \n",
       "min                  0.000000              1989.000000   \n",
       "25%                  1.000000              2014.000000   \n",
       "50%                  3.000000              2016.000000   \n",
       "75%                  5.000000              2016.000000   \n",
       "max                  6.000000              2016.000000   \n",
       "\n",
       "       lastAddressChangeDtMonth  lastAddressChangeDtDay  \\\n",
       "count             786363.000000           786363.000000   \n",
       "mean                   6.286028               15.476674   \n",
       "std                    3.373176                8.591262   \n",
       "min                    1.000000                1.000000   \n",
       "25%                    3.000000                8.000000   \n",
       "50%                    6.000000               15.000000   \n",
       "75%                    9.000000               23.000000   \n",
       "max                   12.000000               31.000000   \n",
       "\n",
       "       lastAddressChangeDtDayOfWeek  cvvMismatchScore  \n",
       "count                  786363.00000     786363.000000  \n",
       "mean                        2.99443          0.003346  \n",
       "std                         1.96869          0.037934  \n",
       "min                         0.00000          0.000000  \n",
       "25%                         1.00000          0.000000  \n",
       "50%                         3.00000          0.000000  \n",
       "75%                         5.00000          0.000000  \n",
       "max                         6.00000          1.000000  \n",
       "\n",
       "[8 rows x 21 columns]"
      ]
     },
     "execution_count": 13,
     "metadata": {},
     "output_type": "execute_result"
    }
   ],
   "source": [
    "main_df.describe()"
   ]
  },
  {
   "cell_type": "code",
   "execution_count": null,
   "id": "38165fcb",
   "metadata": {},
   "outputs": [],
   "source": [
    "for col in ['availableMoney', 'transactionAmount', 'currentBalance']:\n",
    "    fig = px.histogram(main_df, x=col, facet_col='isFraud', color='isFraud', title=f'{col.capitalize()} for Legitimate vs Fraudulent Transactions. *Facet-scales are different!')\n",
    "    fig.update_yaxes(matches=None)\n",
    "    fig.show()"
   ]
  },
  {
   "cell_type": "markdown",
   "id": "fd7f904d",
   "metadata": {},
   "source": [
    "### There are just 12,417 cases of Fraud in our dataset of 786,363"
   ]
  },
  {
   "cell_type": "code",
   "execution_count": null,
   "id": "a9eb64d2",
   "metadata": {},
   "outputs": [
    {
     "name": "stdout",
     "output_type": "stream",
     "text": [
      "The dataset contains 1.6% of fraudulent cases.\n"
     ]
    }
   ],
   "source": [
    "count_frauds = main_df['isFraud'].value_counts()\n",
    "print(f'The dataset contains {round(count_frauds[True]/count_frauds[False]*100,2)}% of fraudulent cases.')"
   ]
  },
  {
   "cell_type": "markdown",
   "id": "333c64ec",
   "metadata": {},
   "source": [
    "### Replace boolean-values with binary 0/1 instead\n",
    "If True --> 1, otherwise 0."
   ]
  },
  {
   "cell_type": "code",
   "execution_count": null,
   "id": "518c85c4",
   "metadata": {},
   "outputs": [],
   "source": [
    "boolean_columns = main_df.select_dtypes(include='bool').columns\n",
    "\n",
    "for col in boolean_columns:\n",
    "    main_df[col] = main_df[col].replace(True, 1).replace(False, 0)"
   ]
  },
  {
   "cell_type": "code",
   "execution_count": null,
   "id": "988c842c",
   "metadata": {},
   "outputs": [
    {
     "data": {
      "text/html": [
       "<div>\n",
       "<style scoped>\n",
       "    .dataframe tbody tr th:only-of-type {\n",
       "        vertical-align: middle;\n",
       "    }\n",
       "\n",
       "    .dataframe tbody tr th {\n",
       "        vertical-align: top;\n",
       "    }\n",
       "\n",
       "    .dataframe thead th {\n",
       "        text-align: right;\n",
       "    }\n",
       "</style>\n",
       "<table border=\"1\" class=\"dataframe\">\n",
       "  <thead>\n",
       "    <tr style=\"text-align: right;\">\n",
       "      <th></th>\n",
       "      <th>posConditionCode</th>\n",
       "      <th>transactionDtDate</th>\n",
       "      <th>enteredCVV</th>\n",
       "      <th>accountOpenDtDate</th>\n",
       "      <th>posEntryMode</th>\n",
       "      <th>merchantCategoryCode</th>\n",
       "      <th>merchantCountryCode</th>\n",
       "      <th>merchantName</th>\n",
       "      <th>transactionType</th>\n",
       "      <th>lastAddressChangeDtDate</th>\n",
       "      <th>acqCountry</th>\n",
       "      <th>cardCVV</th>\n",
       "    </tr>\n",
       "  </thead>\n",
       "  <tbody>\n",
       "    <tr>\n",
       "      <th>0</th>\n",
       "      <td>01</td>\n",
       "      <td>2016-08-13</td>\n",
       "      <td>414</td>\n",
       "      <td>2015-03-14</td>\n",
       "      <td>02</td>\n",
       "      <td>rideshare</td>\n",
       "      <td>US</td>\n",
       "      <td>Uber</td>\n",
       "      <td>PURCHASE</td>\n",
       "      <td>2015-03-14</td>\n",
       "      <td>US</td>\n",
       "      <td>414</td>\n",
       "    </tr>\n",
       "    <tr>\n",
       "      <th>1</th>\n",
       "      <td>01</td>\n",
       "      <td>2016-10-11</td>\n",
       "      <td>486</td>\n",
       "      <td>2015-03-14</td>\n",
       "      <td>09</td>\n",
       "      <td>entertainment</td>\n",
       "      <td>US</td>\n",
       "      <td>AMC #191138</td>\n",
       "      <td>PURCHASE</td>\n",
       "      <td>2015-03-14</td>\n",
       "      <td>US</td>\n",
       "      <td>486</td>\n",
       "    </tr>\n",
       "    <tr>\n",
       "      <th>2</th>\n",
       "      <td>01</td>\n",
       "      <td>2016-11-08</td>\n",
       "      <td>486</td>\n",
       "      <td>2015-03-14</td>\n",
       "      <td>09</td>\n",
       "      <td>mobileapps</td>\n",
       "      <td>US</td>\n",
       "      <td>Play Store</td>\n",
       "      <td>PURCHASE</td>\n",
       "      <td>2015-03-14</td>\n",
       "      <td>US</td>\n",
       "      <td>486</td>\n",
       "    </tr>\n",
       "    <tr>\n",
       "      <th>3</th>\n",
       "      <td>01</td>\n",
       "      <td>2016-12-10</td>\n",
       "      <td>486</td>\n",
       "      <td>2015-03-14</td>\n",
       "      <td>09</td>\n",
       "      <td>mobileapps</td>\n",
       "      <td>US</td>\n",
       "      <td>Play Store</td>\n",
       "      <td>PURCHASE</td>\n",
       "      <td>2015-03-14</td>\n",
       "      <td>US</td>\n",
       "      <td>486</td>\n",
       "    </tr>\n",
       "    <tr>\n",
       "      <th>4</th>\n",
       "      <td>01</td>\n",
       "      <td>2016-03-24</td>\n",
       "      <td>885</td>\n",
       "      <td>2015-08-06</td>\n",
       "      <td>02</td>\n",
       "      <td>fastfood</td>\n",
       "      <td>US</td>\n",
       "      <td>Tim Hortons #947751</td>\n",
       "      <td>PURCHASE</td>\n",
       "      <td>2015-08-06</td>\n",
       "      <td>US</td>\n",
       "      <td>885</td>\n",
       "    </tr>\n",
       "    <tr>\n",
       "      <th>...</th>\n",
       "      <td>...</td>\n",
       "      <td>...</td>\n",
       "      <td>...</td>\n",
       "      <td>...</td>\n",
       "      <td>...</td>\n",
       "      <td>...</td>\n",
       "      <td>...</td>\n",
       "      <td>...</td>\n",
       "      <td>...</td>\n",
       "      <td>...</td>\n",
       "      <td>...</td>\n",
       "      <td>...</td>\n",
       "    </tr>\n",
       "    <tr>\n",
       "      <th>786358</th>\n",
       "      <td>01</td>\n",
       "      <td>2016-12-22</td>\n",
       "      <td>936</td>\n",
       "      <td>2012-08-23</td>\n",
       "      <td>90</td>\n",
       "      <td>rideshare</td>\n",
       "      <td>US</td>\n",
       "      <td>Lyft</td>\n",
       "      <td>PURCHASE</td>\n",
       "      <td>2012-08-23</td>\n",
       "      <td>US</td>\n",
       "      <td>936</td>\n",
       "    </tr>\n",
       "    <tr>\n",
       "      <th>786359</th>\n",
       "      <td>01</td>\n",
       "      <td>2016-12-25</td>\n",
       "      <td>939</td>\n",
       "      <td>2012-08-23</td>\n",
       "      <td>09</td>\n",
       "      <td>online_subscriptions</td>\n",
       "      <td>US</td>\n",
       "      <td>hulu.com</td>\n",
       "      <td>PURCHASE</td>\n",
       "      <td>2012-08-23</td>\n",
       "      <td>US</td>\n",
       "      <td>939</td>\n",
       "    </tr>\n",
       "    <tr>\n",
       "      <th>786360</th>\n",
       "      <td>01</td>\n",
       "      <td>2016-12-27</td>\n",
       "      <td>936</td>\n",
       "      <td>2012-08-23</td>\n",
       "      <td>02</td>\n",
       "      <td>rideshare</td>\n",
       "      <td>US</td>\n",
       "      <td>Lyft</td>\n",
       "      <td>PURCHASE</td>\n",
       "      <td>2012-08-23</td>\n",
       "      <td>US</td>\n",
       "      <td>936</td>\n",
       "    </tr>\n",
       "    <tr>\n",
       "      <th>786361</th>\n",
       "      <td>99</td>\n",
       "      <td>2016-12-29</td>\n",
       "      <td>939</td>\n",
       "      <td>2012-08-23</td>\n",
       "      <td>09</td>\n",
       "      <td>online_retail</td>\n",
       "      <td>US</td>\n",
       "      <td>walmart.com</td>\n",
       "      <td>PURCHASE</td>\n",
       "      <td>2012-08-23</td>\n",
       "      <td>US</td>\n",
       "      <td>939</td>\n",
       "    </tr>\n",
       "    <tr>\n",
       "      <th>786362</th>\n",
       "      <td>01</td>\n",
       "      <td>2016-12-30</td>\n",
       "      <td>939</td>\n",
       "      <td>2012-08-23</td>\n",
       "      <td>05</td>\n",
       "      <td>rideshare</td>\n",
       "      <td>US</td>\n",
       "      <td>Uber</td>\n",
       "      <td>PURCHASE</td>\n",
       "      <td>2012-08-23</td>\n",
       "      <td>US</td>\n",
       "      <td>939</td>\n",
       "    </tr>\n",
       "  </tbody>\n",
       "</table>\n",
       "<p>786363 rows × 12 columns</p>\n",
       "</div>"
      ],
      "text/plain": [
       "       posConditionCode transactionDtDate enteredCVV accountOpenDtDate  \\\n",
       "0                    01        2016-08-13        414        2015-03-14   \n",
       "1                    01        2016-10-11        486        2015-03-14   \n",
       "2                    01        2016-11-08        486        2015-03-14   \n",
       "3                    01        2016-12-10        486        2015-03-14   \n",
       "4                    01        2016-03-24        885        2015-08-06   \n",
       "...                 ...               ...        ...               ...   \n",
       "786358               01        2016-12-22        936        2012-08-23   \n",
       "786359               01        2016-12-25        939        2012-08-23   \n",
       "786360               01        2016-12-27        936        2012-08-23   \n",
       "786361               99        2016-12-29        939        2012-08-23   \n",
       "786362               01        2016-12-30        939        2012-08-23   \n",
       "\n",
       "       posEntryMode  merchantCategoryCode merchantCountryCode  \\\n",
       "0                02             rideshare                  US   \n",
       "1                09         entertainment                  US   \n",
       "2                09            mobileapps                  US   \n",
       "3                09            mobileapps                  US   \n",
       "4                02              fastfood                  US   \n",
       "...             ...                   ...                 ...   \n",
       "786358           90             rideshare                  US   \n",
       "786359           09  online_subscriptions                  US   \n",
       "786360           02             rideshare                  US   \n",
       "786361           09         online_retail                  US   \n",
       "786362           05             rideshare                  US   \n",
       "\n",
       "               merchantName transactionType lastAddressChangeDtDate  \\\n",
       "0                      Uber        PURCHASE              2015-03-14   \n",
       "1               AMC #191138        PURCHASE              2015-03-14   \n",
       "2                Play Store        PURCHASE              2015-03-14   \n",
       "3                Play Store        PURCHASE              2015-03-14   \n",
       "4       Tim Hortons #947751        PURCHASE              2015-08-06   \n",
       "...                     ...             ...                     ...   \n",
       "786358                 Lyft        PURCHASE              2012-08-23   \n",
       "786359             hulu.com        PURCHASE              2012-08-23   \n",
       "786360                 Lyft        PURCHASE              2012-08-23   \n",
       "786361          walmart.com        PURCHASE              2012-08-23   \n",
       "786362                 Uber        PURCHASE              2012-08-23   \n",
       "\n",
       "       acqCountry cardCVV  \n",
       "0              US     414  \n",
       "1              US     486  \n",
       "2              US     486  \n",
       "3              US     486  \n",
       "4              US     885  \n",
       "...           ...     ...  \n",
       "786358         US     936  \n",
       "786359         US     939  \n",
       "786360         US     936  \n",
       "786361         US     939  \n",
       "786362         US     939  \n",
       "\n",
       "[786363 rows x 12 columns]"
      ]
     },
     "execution_count": 75,
     "metadata": {},
     "output_type": "execute_result"
    }
   ],
   "source": [
    "categorical_cols = set(main_df.select_dtypes(include='object').columns)\n",
    "categorical_cols -= set(['transactionDateTime', 'accountOpenDate', 'dateOfLastAddressChange', 'currentExpDate'])\n",
    "main_df[categorical_cols]"
   ]
  },
  {
   "cell_type": "code",
   "execution_count": null,
   "id": "f92eac57",
   "metadata": {},
   "outputs": [
    {
     "name": "stdout",
     "output_type": "stream",
     "text": [
      "Label-encoding acqCountry instead of OHE...\n",
      "Label-encoding transactionType instead of OHE...\n",
      "Label-encoding merchantCountryCode instead of OHE...\n",
      "Label-encoding merchantCategoryCode instead of OHE...\n",
      "Label-encoding posEntryMode instead of OHE...\n",
      "Label-encoding posConditionCode instead of OHE...\n"
     ]
    },
    {
     "data": {
      "text/html": [
       "<div>\n",
       "<style scoped>\n",
       "    .dataframe tbody tr th:only-of-type {\n",
       "        vertical-align: middle;\n",
       "    }\n",
       "\n",
       "    .dataframe tbody tr th {\n",
       "        vertical-align: top;\n",
       "    }\n",
       "\n",
       "    .dataframe thead th {\n",
       "        text-align: right;\n",
       "    }\n",
       "</style>\n",
       "<table border=\"1\" class=\"dataframe\">\n",
       "  <thead>\n",
       "    <tr style=\"text-align: right;\">\n",
       "      <th></th>\n",
       "      <th>posConditionCode</th>\n",
       "      <th>transactionDtDate</th>\n",
       "      <th>enteredCVV</th>\n",
       "      <th>accountOpenDtDate</th>\n",
       "      <th>posEntryMode</th>\n",
       "      <th>merchantCategoryCode</th>\n",
       "      <th>merchantCountryCode</th>\n",
       "      <th>merchantName</th>\n",
       "      <th>transactionType</th>\n",
       "      <th>lastAddressChangeDtDate</th>\n",
       "      <th>acqCountry</th>\n",
       "      <th>cardCVV</th>\n",
       "    </tr>\n",
       "  </thead>\n",
       "  <tbody>\n",
       "    <tr>\n",
       "      <th>0</th>\n",
       "      <td>1</td>\n",
       "      <td>2016-08-13</td>\n",
       "      <td>414</td>\n",
       "      <td>2015-03-14</td>\n",
       "      <td>1</td>\n",
       "      <td>17</td>\n",
       "      <td>4</td>\n",
       "      <td>157</td>\n",
       "      <td>1</td>\n",
       "      <td>2015-03-14</td>\n",
       "      <td>4</td>\n",
       "      <td>414</td>\n",
       "    </tr>\n",
       "    <tr>\n",
       "      <th>1</th>\n",
       "      <td>1</td>\n",
       "      <td>2016-10-11</td>\n",
       "      <td>486</td>\n",
       "      <td>2015-03-14</td>\n",
       "      <td>3</td>\n",
       "      <td>3</td>\n",
       "      <td>4</td>\n",
       "      <td>13</td>\n",
       "      <td>1</td>\n",
       "      <td>2015-03-14</td>\n",
       "      <td>4</td>\n",
       "      <td>486</td>\n",
       "    </tr>\n",
       "    <tr>\n",
       "      <th>2</th>\n",
       "      <td>1</td>\n",
       "      <td>2016-11-08</td>\n",
       "      <td>486</td>\n",
       "      <td>2015-03-14</td>\n",
       "      <td>3</td>\n",
       "      <td>12</td>\n",
       "      <td>4</td>\n",
       "      <td>118</td>\n",
       "      <td>1</td>\n",
       "      <td>2015-03-14</td>\n",
       "      <td>4</td>\n",
       "      <td>486</td>\n",
       "    </tr>\n",
       "    <tr>\n",
       "      <th>3</th>\n",
       "      <td>1</td>\n",
       "      <td>2016-12-10</td>\n",
       "      <td>486</td>\n",
       "      <td>2015-03-14</td>\n",
       "      <td>3</td>\n",
       "      <td>12</td>\n",
       "      <td>4</td>\n",
       "      <td>118</td>\n",
       "      <td>1</td>\n",
       "      <td>2015-03-14</td>\n",
       "      <td>4</td>\n",
       "      <td>486</td>\n",
       "    </tr>\n",
       "    <tr>\n",
       "      <th>4</th>\n",
       "      <td>1</td>\n",
       "      <td>2016-03-24</td>\n",
       "      <td>885</td>\n",
       "      <td>2015-08-06</td>\n",
       "      <td>1</td>\n",
       "      <td>4</td>\n",
       "      <td>4</td>\n",
       "      <td>156</td>\n",
       "      <td>1</td>\n",
       "      <td>2015-08-06</td>\n",
       "      <td>4</td>\n",
       "      <td>885</td>\n",
       "    </tr>\n",
       "    <tr>\n",
       "      <th>...</th>\n",
       "      <td>...</td>\n",
       "      <td>...</td>\n",
       "      <td>...</td>\n",
       "      <td>...</td>\n",
       "      <td>...</td>\n",
       "      <td>...</td>\n",
       "      <td>...</td>\n",
       "      <td>...</td>\n",
       "      <td>...</td>\n",
       "      <td>...</td>\n",
       "      <td>...</td>\n",
       "      <td>...</td>\n",
       "    </tr>\n",
       "    <tr>\n",
       "      <th>786358</th>\n",
       "      <td>1</td>\n",
       "      <td>2016-12-22</td>\n",
       "      <td>936</td>\n",
       "      <td>2012-08-23</td>\n",
       "      <td>5</td>\n",
       "      <td>17</td>\n",
       "      <td>4</td>\n",
       "      <td>94</td>\n",
       "      <td>1</td>\n",
       "      <td>2012-08-23</td>\n",
       "      <td>4</td>\n",
       "      <td>936</td>\n",
       "    </tr>\n",
       "    <tr>\n",
       "      <th>786359</th>\n",
       "      <td>1</td>\n",
       "      <td>2016-12-25</td>\n",
       "      <td>939</td>\n",
       "      <td>2012-08-23</td>\n",
       "      <td>3</td>\n",
       "      <td>15</td>\n",
       "      <td>4</td>\n",
       "      <td>194</td>\n",
       "      <td>1</td>\n",
       "      <td>2012-08-23</td>\n",
       "      <td>4</td>\n",
       "      <td>939</td>\n",
       "    </tr>\n",
       "    <tr>\n",
       "      <th>786360</th>\n",
       "      <td>1</td>\n",
       "      <td>2016-12-27</td>\n",
       "      <td>936</td>\n",
       "      <td>2012-08-23</td>\n",
       "      <td>1</td>\n",
       "      <td>17</td>\n",
       "      <td>4</td>\n",
       "      <td>94</td>\n",
       "      <td>1</td>\n",
       "      <td>2012-08-23</td>\n",
       "      <td>4</td>\n",
       "      <td>936</td>\n",
       "    </tr>\n",
       "    <tr>\n",
       "      <th>786361</th>\n",
       "      <td>3</td>\n",
       "      <td>2016-12-29</td>\n",
       "      <td>939</td>\n",
       "      <td>2012-08-23</td>\n",
       "      <td>3</td>\n",
       "      <td>14</td>\n",
       "      <td>4</td>\n",
       "      <td>202</td>\n",
       "      <td>1</td>\n",
       "      <td>2012-08-23</td>\n",
       "      <td>4</td>\n",
       "      <td>939</td>\n",
       "    </tr>\n",
       "    <tr>\n",
       "      <th>786362</th>\n",
       "      <td>1</td>\n",
       "      <td>2016-12-30</td>\n",
       "      <td>939</td>\n",
       "      <td>2012-08-23</td>\n",
       "      <td>2</td>\n",
       "      <td>17</td>\n",
       "      <td>4</td>\n",
       "      <td>157</td>\n",
       "      <td>1</td>\n",
       "      <td>2012-08-23</td>\n",
       "      <td>4</td>\n",
       "      <td>939</td>\n",
       "    </tr>\n",
       "  </tbody>\n",
       "</table>\n",
       "<p>786363 rows × 12 columns</p>\n",
       "</div>"
      ],
      "text/plain": [
       "        posConditionCode transactionDtDate enteredCVV accountOpenDtDate  \\\n",
       "0                      1        2016-08-13        414        2015-03-14   \n",
       "1                      1        2016-10-11        486        2015-03-14   \n",
       "2                      1        2016-11-08        486        2015-03-14   \n",
       "3                      1        2016-12-10        486        2015-03-14   \n",
       "4                      1        2016-03-24        885        2015-08-06   \n",
       "...                  ...               ...        ...               ...   \n",
       "786358                 1        2016-12-22        936        2012-08-23   \n",
       "786359                 1        2016-12-25        939        2012-08-23   \n",
       "786360                 1        2016-12-27        936        2012-08-23   \n",
       "786361                 3        2016-12-29        939        2012-08-23   \n",
       "786362                 1        2016-12-30        939        2012-08-23   \n",
       "\n",
       "        posEntryMode  merchantCategoryCode  merchantCountryCode  merchantName  \\\n",
       "0                  1                    17                    4           157   \n",
       "1                  3                     3                    4            13   \n",
       "2                  3                    12                    4           118   \n",
       "3                  3                    12                    4           118   \n",
       "4                  1                     4                    4           156   \n",
       "...              ...                   ...                  ...           ...   \n",
       "786358             5                    17                    4            94   \n",
       "786359             3                    15                    4           194   \n",
       "786360             1                    17                    4            94   \n",
       "786361             3                    14                    4           202   \n",
       "786362             2                    17                    4           157   \n",
       "\n",
       "        transactionType lastAddressChangeDtDate  acqCountry cardCVV  \n",
       "0                     1              2015-03-14           4     414  \n",
       "1                     1              2015-03-14           4     486  \n",
       "2                     1              2015-03-14           4     486  \n",
       "3                     1              2015-03-14           4     486  \n",
       "4                     1              2015-08-06           4     885  \n",
       "...                 ...                     ...         ...     ...  \n",
       "786358                1              2012-08-23           4     936  \n",
       "786359                1              2012-08-23           4     939  \n",
       "786360                1              2012-08-23           4     936  \n",
       "786361                1              2012-08-23           4     939  \n",
       "786362                1              2012-08-23           4     939  \n",
       "\n",
       "[786363 rows x 12 columns]"
      ]
     },
     "execution_count": 76,
     "metadata": {},
     "output_type": "execute_result"
    }
   ],
   "source": [
    "# Using label encoder rather than one-hot-encoding since even a 5-valued categorical feature requires 55GB!\n",
    "label_encoder = LabelEncoder()\n",
    "nvalues_categorical_df = main_df[categorical_cols].nunique()\n",
    "cols_to_encode = list(nvalues_categorical_df.index[nvalues_categorical_df.values<=20])\n",
    "for col in cols_to_encode[::-1]:\n",
    "    print(f'Label-encoding {col} instead of OHE...')\n",
    "    main_df[col] = label_encoder.fit_transform(main_df[col])\n",
    "\n",
    "# Cleaning the 'Merchant name' column first to reduce 2,400 categories into 200 categories\n",
    "get_clean_merchant_name = lambda name: re.sub(r' #.*', '', name).replace('.com', '')\n",
    "\n",
    "main_df['merchantName'] = label_encoder.fit_transform(main_df['merchantName'].apply(get_clean_merchant_name))\n",
    "main_df[categorical_cols]"
   ]
  },
  {
   "cell_type": "code",
   "execution_count": null,
   "id": "6419e48e",
   "metadata": {},
   "outputs": [
    {
     "data": {
      "text/html": [
       "<div>\n",
       "<style scoped>\n",
       "    .dataframe tbody tr th:only-of-type {\n",
       "        vertical-align: middle;\n",
       "    }\n",
       "\n",
       "    .dataframe tbody tr th {\n",
       "        vertical-align: top;\n",
       "    }\n",
       "\n",
       "    .dataframe thead th {\n",
       "        text-align: right;\n",
       "    }\n",
       "</style>\n",
       "<table border=\"1\" class=\"dataframe\">\n",
       "  <thead>\n",
       "    <tr style=\"text-align: right;\">\n",
       "      <th></th>\n",
       "      <th>accountNumber</th>\n",
       "      <th>customerId</th>\n",
       "      <th>creditLimit</th>\n",
       "      <th>availableMoney</th>\n",
       "      <th>transactionAmount</th>\n",
       "      <th>merchantName</th>\n",
       "      <th>acqCountry</th>\n",
       "      <th>merchantCountryCode</th>\n",
       "      <th>posEntryMode</th>\n",
       "      <th>posConditionCode</th>\n",
       "      <th>...</th>\n",
       "      <th>transactionDtMin</th>\n",
       "      <th>accountOpenDtYear</th>\n",
       "      <th>accountOpenDtMonth</th>\n",
       "      <th>accountOpenDtDay</th>\n",
       "      <th>accountOpenDtDayOfWeek</th>\n",
       "      <th>lastAddressChangeDtYear</th>\n",
       "      <th>lastAddressChangeDtMonth</th>\n",
       "      <th>lastAddressChangeDtDay</th>\n",
       "      <th>lastAddressChangeDtDayOfWeek</th>\n",
       "      <th>cvvMismatchScore</th>\n",
       "    </tr>\n",
       "  </thead>\n",
       "  <tbody>\n",
       "    <tr>\n",
       "      <th>0</th>\n",
       "      <td>737265056</td>\n",
       "      <td>737265056</td>\n",
       "      <td>0.095477</td>\n",
       "      <td>0.117744</td>\n",
       "      <td>98.55</td>\n",
       "      <td>157</td>\n",
       "      <td>4</td>\n",
       "      <td>4</td>\n",
       "      <td>1</td>\n",
       "      <td>1</td>\n",
       "      <td>...</td>\n",
       "      <td>27</td>\n",
       "      <td>2015</td>\n",
       "      <td>3</td>\n",
       "      <td>14</td>\n",
       "      <td>5</td>\n",
       "      <td>2015</td>\n",
       "      <td>3</td>\n",
       "      <td>14</td>\n",
       "      <td>5</td>\n",
       "      <td>0.0</td>\n",
       "    </tr>\n",
       "    <tr>\n",
       "      <th>1</th>\n",
       "      <td>737265056</td>\n",
       "      <td>737265056</td>\n",
       "      <td>0.095477</td>\n",
       "      <td>0.117744</td>\n",
       "      <td>74.51</td>\n",
       "      <td>13</td>\n",
       "      <td>4</td>\n",
       "      <td>4</td>\n",
       "      <td>3</td>\n",
       "      <td>1</td>\n",
       "      <td>...</td>\n",
       "      <td>5</td>\n",
       "      <td>2015</td>\n",
       "      <td>3</td>\n",
       "      <td>14</td>\n",
       "      <td>5</td>\n",
       "      <td>2015</td>\n",
       "      <td>3</td>\n",
       "      <td>14</td>\n",
       "      <td>5</td>\n",
       "      <td>0.0</td>\n",
       "    </tr>\n",
       "    <tr>\n",
       "      <th>2</th>\n",
       "      <td>737265056</td>\n",
       "      <td>737265056</td>\n",
       "      <td>0.095477</td>\n",
       "      <td>0.117744</td>\n",
       "      <td>7.47</td>\n",
       "      <td>118</td>\n",
       "      <td>4</td>\n",
       "      <td>4</td>\n",
       "      <td>3</td>\n",
       "      <td>1</td>\n",
       "      <td>...</td>\n",
       "      <td>18</td>\n",
       "      <td>2015</td>\n",
       "      <td>3</td>\n",
       "      <td>14</td>\n",
       "      <td>5</td>\n",
       "      <td>2015</td>\n",
       "      <td>3</td>\n",
       "      <td>14</td>\n",
       "      <td>5</td>\n",
       "      <td>0.0</td>\n",
       "    </tr>\n",
       "    <tr>\n",
       "      <th>3</th>\n",
       "      <td>737265056</td>\n",
       "      <td>737265056</td>\n",
       "      <td>0.095477</td>\n",
       "      <td>0.117744</td>\n",
       "      <td>7.47</td>\n",
       "      <td>118</td>\n",
       "      <td>4</td>\n",
       "      <td>4</td>\n",
       "      <td>3</td>\n",
       "      <td>1</td>\n",
       "      <td>...</td>\n",
       "      <td>14</td>\n",
       "      <td>2015</td>\n",
       "      <td>3</td>\n",
       "      <td>14</td>\n",
       "      <td>5</td>\n",
       "      <td>2015</td>\n",
       "      <td>3</td>\n",
       "      <td>14</td>\n",
       "      <td>5</td>\n",
       "      <td>0.0</td>\n",
       "    </tr>\n",
       "    <tr>\n",
       "      <th>4</th>\n",
       "      <td>830329091</td>\n",
       "      <td>830329091</td>\n",
       "      <td>0.095477</td>\n",
       "      <td>0.117744</td>\n",
       "      <td>71.18</td>\n",
       "      <td>156</td>\n",
       "      <td>4</td>\n",
       "      <td>4</td>\n",
       "      <td>1</td>\n",
       "      <td>1</td>\n",
       "      <td>...</td>\n",
       "      <td>4</td>\n",
       "      <td>2015</td>\n",
       "      <td>8</td>\n",
       "      <td>6</td>\n",
       "      <td>3</td>\n",
       "      <td>2015</td>\n",
       "      <td>8</td>\n",
       "      <td>6</td>\n",
       "      <td>3</td>\n",
       "      <td>0.0</td>\n",
       "    </tr>\n",
       "    <tr>\n",
       "      <th>...</th>\n",
       "      <td>...</td>\n",
       "      <td>...</td>\n",
       "      <td>...</td>\n",
       "      <td>...</td>\n",
       "      <td>...</td>\n",
       "      <td>...</td>\n",
       "      <td>...</td>\n",
       "      <td>...</td>\n",
       "      <td>...</td>\n",
       "      <td>...</td>\n",
       "      <td>...</td>\n",
       "      <td>...</td>\n",
       "      <td>...</td>\n",
       "      <td>...</td>\n",
       "      <td>...</td>\n",
       "      <td>...</td>\n",
       "      <td>...</td>\n",
       "      <td>...</td>\n",
       "      <td>...</td>\n",
       "      <td>...</td>\n",
       "      <td>...</td>\n",
       "    </tr>\n",
       "    <tr>\n",
       "      <th>786358</th>\n",
       "      <td>732852505</td>\n",
       "      <td>732852505</td>\n",
       "      <td>1.000000</td>\n",
       "      <td>0.978531</td>\n",
       "      <td>119.92</td>\n",
       "      <td>94</td>\n",
       "      <td>4</td>\n",
       "      <td>4</td>\n",
       "      <td>5</td>\n",
       "      <td>1</td>\n",
       "      <td>...</td>\n",
       "      <td>44</td>\n",
       "      <td>2012</td>\n",
       "      <td>8</td>\n",
       "      <td>23</td>\n",
       "      <td>3</td>\n",
       "      <td>2012</td>\n",
       "      <td>8</td>\n",
       "      <td>23</td>\n",
       "      <td>3</td>\n",
       "      <td>0.0</td>\n",
       "    </tr>\n",
       "    <tr>\n",
       "      <th>786359</th>\n",
       "      <td>732852505</td>\n",
       "      <td>732852505</td>\n",
       "      <td>1.000000</td>\n",
       "      <td>0.976180</td>\n",
       "      <td>18.89</td>\n",
       "      <td>194</td>\n",
       "      <td>4</td>\n",
       "      <td>4</td>\n",
       "      <td>3</td>\n",
       "      <td>1</td>\n",
       "      <td>...</td>\n",
       "      <td>20</td>\n",
       "      <td>2012</td>\n",
       "      <td>8</td>\n",
       "      <td>23</td>\n",
       "      <td>3</td>\n",
       "      <td>2012</td>\n",
       "      <td>8</td>\n",
       "      <td>23</td>\n",
       "      <td>3</td>\n",
       "      <td>0.0</td>\n",
       "    </tr>\n",
       "    <tr>\n",
       "      <th>786360</th>\n",
       "      <td>732852505</td>\n",
       "      <td>732852505</td>\n",
       "      <td>1.000000</td>\n",
       "      <td>0.975810</td>\n",
       "      <td>49.43</td>\n",
       "      <td>94</td>\n",
       "      <td>4</td>\n",
       "      <td>4</td>\n",
       "      <td>1</td>\n",
       "      <td>1</td>\n",
       "      <td>...</td>\n",
       "      <td>46</td>\n",
       "      <td>2012</td>\n",
       "      <td>8</td>\n",
       "      <td>23</td>\n",
       "      <td>3</td>\n",
       "      <td>2012</td>\n",
       "      <td>8</td>\n",
       "      <td>23</td>\n",
       "      <td>3</td>\n",
       "      <td>0.0</td>\n",
       "    </tr>\n",
       "    <tr>\n",
       "      <th>786361</th>\n",
       "      <td>732852505</td>\n",
       "      <td>732852505</td>\n",
       "      <td>1.000000</td>\n",
       "      <td>0.974840</td>\n",
       "      <td>49.89</td>\n",
       "      <td>202</td>\n",
       "      <td>4</td>\n",
       "      <td>4</td>\n",
       "      <td>3</td>\n",
       "      <td>3</td>\n",
       "      <td>...</td>\n",
       "      <td>30</td>\n",
       "      <td>2012</td>\n",
       "      <td>8</td>\n",
       "      <td>23</td>\n",
       "      <td>3</td>\n",
       "      <td>2012</td>\n",
       "      <td>8</td>\n",
       "      <td>23</td>\n",
       "      <td>3</td>\n",
       "      <td>0.0</td>\n",
       "    </tr>\n",
       "    <tr>\n",
       "      <th>786362</th>\n",
       "      <td>732852505</td>\n",
       "      <td>732852505</td>\n",
       "      <td>1.000000</td>\n",
       "      <td>0.973862</td>\n",
       "      <td>72.18</td>\n",
       "      <td>157</td>\n",
       "      <td>4</td>\n",
       "      <td>4</td>\n",
       "      <td>2</td>\n",
       "      <td>1</td>\n",
       "      <td>...</td>\n",
       "      <td>10</td>\n",
       "      <td>2012</td>\n",
       "      <td>8</td>\n",
       "      <td>23</td>\n",
       "      <td>3</td>\n",
       "      <td>2012</td>\n",
       "      <td>8</td>\n",
       "      <td>23</td>\n",
       "      <td>3</td>\n",
       "      <td>0.0</td>\n",
       "    </tr>\n",
       "  </tbody>\n",
       "</table>\n",
       "<p>786363 rows × 31 columns</p>\n",
       "</div>"
      ],
      "text/plain": [
       "        accountNumber  customerId  creditLimit  availableMoney  \\\n",
       "0           737265056   737265056     0.095477        0.117744   \n",
       "1           737265056   737265056     0.095477        0.117744   \n",
       "2           737265056   737265056     0.095477        0.117744   \n",
       "3           737265056   737265056     0.095477        0.117744   \n",
       "4           830329091   830329091     0.095477        0.117744   \n",
       "...               ...         ...          ...             ...   \n",
       "786358      732852505   732852505     1.000000        0.978531   \n",
       "786359      732852505   732852505     1.000000        0.976180   \n",
       "786360      732852505   732852505     1.000000        0.975810   \n",
       "786361      732852505   732852505     1.000000        0.974840   \n",
       "786362      732852505   732852505     1.000000        0.973862   \n",
       "\n",
       "        transactionAmount  merchantName  acqCountry  merchantCountryCode  \\\n",
       "0                   98.55           157           4                    4   \n",
       "1                   74.51            13           4                    4   \n",
       "2                    7.47           118           4                    4   \n",
       "3                    7.47           118           4                    4   \n",
       "4                   71.18           156           4                    4   \n",
       "...                   ...           ...         ...                  ...   \n",
       "786358             119.92            94           4                    4   \n",
       "786359              18.89           194           4                    4   \n",
       "786360              49.43            94           4                    4   \n",
       "786361              49.89           202           4                    4   \n",
       "786362              72.18           157           4                    4   \n",
       "\n",
       "        posEntryMode  posConditionCode  ...  transactionDtMin  \\\n",
       "0                  1                 1  ...                27   \n",
       "1                  3                 1  ...                 5   \n",
       "2                  3                 1  ...                18   \n",
       "3                  3                 1  ...                14   \n",
       "4                  1                 1  ...                 4   \n",
       "...              ...               ...  ...               ...   \n",
       "786358             5                 1  ...                44   \n",
       "786359             3                 1  ...                20   \n",
       "786360             1                 1  ...                46   \n",
       "786361             3                 3  ...                30   \n",
       "786362             2                 1  ...                10   \n",
       "\n",
       "        accountOpenDtYear  accountOpenDtMonth  accountOpenDtDay  \\\n",
       "0                    2015                   3                14   \n",
       "1                    2015                   3                14   \n",
       "2                    2015                   3                14   \n",
       "3                    2015                   3                14   \n",
       "4                    2015                   8                 6   \n",
       "...                   ...                 ...               ...   \n",
       "786358               2012                   8                23   \n",
       "786359               2012                   8                23   \n",
       "786360               2012                   8                23   \n",
       "786361               2012                   8                23   \n",
       "786362               2012                   8                23   \n",
       "\n",
       "        accountOpenDtDayOfWeek  lastAddressChangeDtYear  \\\n",
       "0                            5                     2015   \n",
       "1                            5                     2015   \n",
       "2                            5                     2015   \n",
       "3                            5                     2015   \n",
       "4                            3                     2015   \n",
       "...                        ...                      ...   \n",
       "786358                       3                     2012   \n",
       "786359                       3                     2012   \n",
       "786360                       3                     2012   \n",
       "786361                       3                     2012   \n",
       "786362                       3                     2012   \n",
       "\n",
       "        lastAddressChangeDtMonth  lastAddressChangeDtDay  \\\n",
       "0                              3                      14   \n",
       "1                              3                      14   \n",
       "2                              3                      14   \n",
       "3                              3                      14   \n",
       "4                              8                       6   \n",
       "...                          ...                     ...   \n",
       "786358                         8                      23   \n",
       "786359                         8                      23   \n",
       "786360                         8                      23   \n",
       "786361                         8                      23   \n",
       "786362                         8                      23   \n",
       "\n",
       "        lastAddressChangeDtDayOfWeek  cvvMismatchScore  \n",
       "0                                  5               0.0  \n",
       "1                                  5               0.0  \n",
       "2                                  5               0.0  \n",
       "3                                  5               0.0  \n",
       "4                                  3               0.0  \n",
       "...                              ...               ...  \n",
       "786358                             3               0.0  \n",
       "786359                             3               0.0  \n",
       "786360                             3               0.0  \n",
       "786361                             3               0.0  \n",
       "786362                             3               0.0  \n",
       "\n",
       "[786363 rows x 31 columns]"
      ]
     },
     "execution_count": 86,
     "metadata": {},
     "output_type": "execute_result"
    }
   ],
   "source": [
    "cols_to_drop = list(main_df.select_dtypes(exclude=['int64','float64','int32']).columns)\n",
    "main_df = main_df.drop(cols_to_drop, axis=1)\n",
    "main_df"
   ]
  },
  {
   "cell_type": "code",
   "execution_count": null,
   "id": "15cf0547",
   "metadata": {},
   "outputs": [],
   "source": [
    "from sklearn.preprocessing import MinMaxScaler\n",
    "sc_creditLimit = MinMaxScaler().fit(main_df[['creditLimit']])\n",
    "sc_availableMoney = MinMaxScaler().fit(main_df[['availableMoney']])\n",
    "main_df['creditLimit'] = sc_creditLimit.transform(main_df[['creditLimit']])\n",
    "main_df['availableMoney'] = sc_availableMoney.transform(main_df[['availableMoney']])"
   ]
  },
  {
   "cell_type": "code",
   "execution_count": null,
   "id": "cb7d4da1",
   "metadata": {},
   "outputs": [
    {
     "data": {
      "application/vnd.plotly.v1+json": {
       "config": {
        "plotlyServerURL": "https://plot.ly"
       },
       "data": [
        {
         "alignmentgroup": "True",
         "hovertemplate": "feature=%{x}<br>feature_score (1-p_value)=%{marker.color}<extra></extra>",
         "legendgroup": "",
         "marker": {
          "color": [
           0.9324895350210267,
           0.9999999937083202,
           1,
           1,
           0.9999999999999999,
           0.8123850568879593,
           0.9999999999999993,
           1,
           1,
           1,
           0.19969748204964288,
           1,
           0.6062045575963009,
           0.8831829511704195,
           0.999930283322542,
           0.47102078100971734,
           1,
           0.9999999636923239,
           0.15713676893474093,
           0.6111650638220926,
           0.8625027552862531,
           0.36090968570998005,
           0.9578354155362372,
           0.903545323381799,
           0.9864254695906615,
           1,
           0.8392069551209629,
           0.9237503509944711
          ],
          "coloraxis": "coloraxis",
          "pattern": {
           "shape": ""
          }
         },
         "name": "",
         "offsetgroup": "",
         "orientation": "v",
         "showlegend": false,
         "textposition": "auto",
         "type": "bar",
         "x": [
          "posConditionCode",
          "cvvMismatchScore",
          "accountOpenDtMonth",
          "cardPresent",
          "transactionDtMonth",
          "transactionDtDayOfWeek",
          "accountOpenDtDayOfWeek",
          "merchantCategoryCode",
          "isFraud",
          "transactionAmount",
          "accountOpenDtYear",
          "merchantName",
          "lastAddressChangeDtDay",
          "transactionDtHour",
          "lastAddressChangeDtDayOfWeek",
          "availableMoney",
          "posEntryMode",
          "lastAddressChangeDtMonth",
          "lastAddressChangeDtYear",
          "expirationDateKeyInMatch",
          "transactionDtDay",
          "accountOpenDtDay",
          "transactionType",
          "merchantCountryCode",
          "transactionDtMin",
          "currentBalance",
          "creditLimit",
          "acqCountry"
         ],
         "xaxis": "x",
         "y": [
          0.9324895350210267,
          0.9999999937083202,
          1,
          1,
          0.9999999999999999,
          0.8123850568879593,
          0.9999999999999993,
          1,
          1,
          1,
          0.19969748204964288,
          1,
          0.6062045575963009,
          0.8831829511704195,
          0.999930283322542,
          0.47102078100971734,
          1,
          0.9999999636923239,
          0.15713676893474093,
          0.6111650638220926,
          0.8625027552862531,
          0.36090968570998005,
          0.9578354155362372,
          0.903545323381799,
          0.9864254695906615,
          1,
          0.8392069551209629,
          0.9237503509944711
         ],
         "yaxis": "y"
        }
       ],
       "layout": {
        "barmode": "relative",
        "coloraxis": {
         "colorbar": {
          "title": {
           "text": "feature_score (1-p_value)"
          }
         },
         "colorscale": [
          [
           0,
           "rgb(247, 254, 174)"
          ],
          [
           0.16666666666666666,
           "rgb(183, 230, 165)"
          ],
          [
           0.3333333333333333,
           "rgb(124, 203, 162)"
          ],
          [
           0.5,
           "rgb(70, 174, 160)"
          ],
          [
           0.6666666666666666,
           "rgb(8, 144, 153)"
          ],
          [
           0.8333333333333334,
           "rgb(0, 113, 139)"
          ],
          [
           1,
           "rgb(4, 82, 117)"
          ]
         ]
        },
        "legend": {
         "tracegroupgap": 0
        },
        "template": {
         "data": {
          "bar": [
           {
            "error_x": {
             "color": "#2a3f5f"
            },
            "error_y": {
             "color": "#2a3f5f"
            },
            "marker": {
             "line": {
              "color": "#E5ECF6",
              "width": 0.5
             },
             "pattern": {
              "fillmode": "overlay",
              "size": 10,
              "solidity": 0.2
             }
            },
            "type": "bar"
           }
          ],
          "barpolar": [
           {
            "marker": {
             "line": {
              "color": "#E5ECF6",
              "width": 0.5
             },
             "pattern": {
              "fillmode": "overlay",
              "size": 10,
              "solidity": 0.2
             }
            },
            "type": "barpolar"
           }
          ],
          "carpet": [
           {
            "aaxis": {
             "endlinecolor": "#2a3f5f",
             "gridcolor": "white",
             "linecolor": "white",
             "minorgridcolor": "white",
             "startlinecolor": "#2a3f5f"
            },
            "baxis": {
             "endlinecolor": "#2a3f5f",
             "gridcolor": "white",
             "linecolor": "white",
             "minorgridcolor": "white",
             "startlinecolor": "#2a3f5f"
            },
            "type": "carpet"
           }
          ],
          "choropleth": [
           {
            "colorbar": {
             "outlinewidth": 0,
             "ticks": ""
            },
            "type": "choropleth"
           }
          ],
          "contour": [
           {
            "colorbar": {
             "outlinewidth": 0,
             "ticks": ""
            },
            "colorscale": [
             [
              0,
              "#0d0887"
             ],
             [
              0.1111111111111111,
              "#46039f"
             ],
             [
              0.2222222222222222,
              "#7201a8"
             ],
             [
              0.3333333333333333,
              "#9c179e"
             ],
             [
              0.4444444444444444,
              "#bd3786"
             ],
             [
              0.5555555555555556,
              "#d8576b"
             ],
             [
              0.6666666666666666,
              "#ed7953"
             ],
             [
              0.7777777777777778,
              "#fb9f3a"
             ],
             [
              0.8888888888888888,
              "#fdca26"
             ],
             [
              1,
              "#f0f921"
             ]
            ],
            "type": "contour"
           }
          ],
          "contourcarpet": [
           {
            "colorbar": {
             "outlinewidth": 0,
             "ticks": ""
            },
            "type": "contourcarpet"
           }
          ],
          "heatmap": [
           {
            "colorbar": {
             "outlinewidth": 0,
             "ticks": ""
            },
            "colorscale": [
             [
              0,
              "#0d0887"
             ],
             [
              0.1111111111111111,
              "#46039f"
             ],
             [
              0.2222222222222222,
              "#7201a8"
             ],
             [
              0.3333333333333333,
              "#9c179e"
             ],
             [
              0.4444444444444444,
              "#bd3786"
             ],
             [
              0.5555555555555556,
              "#d8576b"
             ],
             [
              0.6666666666666666,
              "#ed7953"
             ],
             [
              0.7777777777777778,
              "#fb9f3a"
             ],
             [
              0.8888888888888888,
              "#fdca26"
             ],
             [
              1,
              "#f0f921"
             ]
            ],
            "type": "heatmap"
           }
          ],
          "heatmapgl": [
           {
            "colorbar": {
             "outlinewidth": 0,
             "ticks": ""
            },
            "colorscale": [
             [
              0,
              "#0d0887"
             ],
             [
              0.1111111111111111,
              "#46039f"
             ],
             [
              0.2222222222222222,
              "#7201a8"
             ],
             [
              0.3333333333333333,
              "#9c179e"
             ],
             [
              0.4444444444444444,
              "#bd3786"
             ],
             [
              0.5555555555555556,
              "#d8576b"
             ],
             [
              0.6666666666666666,
              "#ed7953"
             ],
             [
              0.7777777777777778,
              "#fb9f3a"
             ],
             [
              0.8888888888888888,
              "#fdca26"
             ],
             [
              1,
              "#f0f921"
             ]
            ],
            "type": "heatmapgl"
           }
          ],
          "histogram": [
           {
            "marker": {
             "pattern": {
              "fillmode": "overlay",
              "size": 10,
              "solidity": 0.2
             }
            },
            "type": "histogram"
           }
          ],
          "histogram2d": [
           {
            "colorbar": {
             "outlinewidth": 0,
             "ticks": ""
            },
            "colorscale": [
             [
              0,
              "#0d0887"
             ],
             [
              0.1111111111111111,
              "#46039f"
             ],
             [
              0.2222222222222222,
              "#7201a8"
             ],
             [
              0.3333333333333333,
              "#9c179e"
             ],
             [
              0.4444444444444444,
              "#bd3786"
             ],
             [
              0.5555555555555556,
              "#d8576b"
             ],
             [
              0.6666666666666666,
              "#ed7953"
             ],
             [
              0.7777777777777778,
              "#fb9f3a"
             ],
             [
              0.8888888888888888,
              "#fdca26"
             ],
             [
              1,
              "#f0f921"
             ]
            ],
            "type": "histogram2d"
           }
          ],
          "histogram2dcontour": [
           {
            "colorbar": {
             "outlinewidth": 0,
             "ticks": ""
            },
            "colorscale": [
             [
              0,
              "#0d0887"
             ],
             [
              0.1111111111111111,
              "#46039f"
             ],
             [
              0.2222222222222222,
              "#7201a8"
             ],
             [
              0.3333333333333333,
              "#9c179e"
             ],
             [
              0.4444444444444444,
              "#bd3786"
             ],
             [
              0.5555555555555556,
              "#d8576b"
             ],
             [
              0.6666666666666666,
              "#ed7953"
             ],
             [
              0.7777777777777778,
              "#fb9f3a"
             ],
             [
              0.8888888888888888,
              "#fdca26"
             ],
             [
              1,
              "#f0f921"
             ]
            ],
            "type": "histogram2dcontour"
           }
          ],
          "mesh3d": [
           {
            "colorbar": {
             "outlinewidth": 0,
             "ticks": ""
            },
            "type": "mesh3d"
           }
          ],
          "parcoords": [
           {
            "line": {
             "colorbar": {
              "outlinewidth": 0,
              "ticks": ""
             }
            },
            "type": "parcoords"
           }
          ],
          "pie": [
           {
            "automargin": true,
            "type": "pie"
           }
          ],
          "scatter": [
           {
            "fillpattern": {
             "fillmode": "overlay",
             "size": 10,
             "solidity": 0.2
            },
            "type": "scatter"
           }
          ],
          "scatter3d": [
           {
            "line": {
             "colorbar": {
              "outlinewidth": 0,
              "ticks": ""
             }
            },
            "marker": {
             "colorbar": {
              "outlinewidth": 0,
              "ticks": ""
             }
            },
            "type": "scatter3d"
           }
          ],
          "scattercarpet": [
           {
            "marker": {
             "colorbar": {
              "outlinewidth": 0,
              "ticks": ""
             }
            },
            "type": "scattercarpet"
           }
          ],
          "scattergeo": [
           {
            "marker": {
             "colorbar": {
              "outlinewidth": 0,
              "ticks": ""
             }
            },
            "type": "scattergeo"
           }
          ],
          "scattergl": [
           {
            "marker": {
             "colorbar": {
              "outlinewidth": 0,
              "ticks": ""
             }
            },
            "type": "scattergl"
           }
          ],
          "scattermapbox": [
           {
            "marker": {
             "colorbar": {
              "outlinewidth": 0,
              "ticks": ""
             }
            },
            "type": "scattermapbox"
           }
          ],
          "scatterpolar": [
           {
            "marker": {
             "colorbar": {
              "outlinewidth": 0,
              "ticks": ""
             }
            },
            "type": "scatterpolar"
           }
          ],
          "scatterpolargl": [
           {
            "marker": {
             "colorbar": {
              "outlinewidth": 0,
              "ticks": ""
             }
            },
            "type": "scatterpolargl"
           }
          ],
          "scatterternary": [
           {
            "marker": {
             "colorbar": {
              "outlinewidth": 0,
              "ticks": ""
             }
            },
            "type": "scatterternary"
           }
          ],
          "surface": [
           {
            "colorbar": {
             "outlinewidth": 0,
             "ticks": ""
            },
            "colorscale": [
             [
              0,
              "#0d0887"
             ],
             [
              0.1111111111111111,
              "#46039f"
             ],
             [
              0.2222222222222222,
              "#7201a8"
             ],
             [
              0.3333333333333333,
              "#9c179e"
             ],
             [
              0.4444444444444444,
              "#bd3786"
             ],
             [
              0.5555555555555556,
              "#d8576b"
             ],
             [
              0.6666666666666666,
              "#ed7953"
             ],
             [
              0.7777777777777778,
              "#fb9f3a"
             ],
             [
              0.8888888888888888,
              "#fdca26"
             ],
             [
              1,
              "#f0f921"
             ]
            ],
            "type": "surface"
           }
          ],
          "table": [
           {
            "cells": {
             "fill": {
              "color": "#EBF0F8"
             },
             "line": {
              "color": "white"
             }
            },
            "header": {
             "fill": {
              "color": "#C8D4E3"
             },
             "line": {
              "color": "white"
             }
            },
            "type": "table"
           }
          ]
         },
         "layout": {
          "annotationdefaults": {
           "arrowcolor": "#2a3f5f",
           "arrowhead": 0,
           "arrowwidth": 1
          },
          "autotypenumbers": "strict",
          "coloraxis": {
           "colorbar": {
            "outlinewidth": 0,
            "ticks": ""
           }
          },
          "colorscale": {
           "diverging": [
            [
             0,
             "#8e0152"
            ],
            [
             0.1,
             "#c51b7d"
            ],
            [
             0.2,
             "#de77ae"
            ],
            [
             0.3,
             "#f1b6da"
            ],
            [
             0.4,
             "#fde0ef"
            ],
            [
             0.5,
             "#f7f7f7"
            ],
            [
             0.6,
             "#e6f5d0"
            ],
            [
             0.7,
             "#b8e186"
            ],
            [
             0.8,
             "#7fbc41"
            ],
            [
             0.9,
             "#4d9221"
            ],
            [
             1,
             "#276419"
            ]
           ],
           "sequential": [
            [
             0,
             "#0d0887"
            ],
            [
             0.1111111111111111,
             "#46039f"
            ],
            [
             0.2222222222222222,
             "#7201a8"
            ],
            [
             0.3333333333333333,
             "#9c179e"
            ],
            [
             0.4444444444444444,
             "#bd3786"
            ],
            [
             0.5555555555555556,
             "#d8576b"
            ],
            [
             0.6666666666666666,
             "#ed7953"
            ],
            [
             0.7777777777777778,
             "#fb9f3a"
            ],
            [
             0.8888888888888888,
             "#fdca26"
            ],
            [
             1,
             "#f0f921"
            ]
           ],
           "sequentialminus": [
            [
             0,
             "#0d0887"
            ],
            [
             0.1111111111111111,
             "#46039f"
            ],
            [
             0.2222222222222222,
             "#7201a8"
            ],
            [
             0.3333333333333333,
             "#9c179e"
            ],
            [
             0.4444444444444444,
             "#bd3786"
            ],
            [
             0.5555555555555556,
             "#d8576b"
            ],
            [
             0.6666666666666666,
             "#ed7953"
            ],
            [
             0.7777777777777778,
             "#fb9f3a"
            ],
            [
             0.8888888888888888,
             "#fdca26"
            ],
            [
             1,
             "#f0f921"
            ]
           ]
          },
          "colorway": [
           "#636efa",
           "#EF553B",
           "#00cc96",
           "#ab63fa",
           "#FFA15A",
           "#19d3f3",
           "#FF6692",
           "#B6E880",
           "#FF97FF",
           "#FECB52"
          ],
          "font": {
           "color": "#2a3f5f"
          },
          "geo": {
           "bgcolor": "white",
           "lakecolor": "white",
           "landcolor": "#E5ECF6",
           "showlakes": true,
           "showland": true,
           "subunitcolor": "white"
          },
          "hoverlabel": {
           "align": "left"
          },
          "hovermode": "closest",
          "mapbox": {
           "style": "light"
          },
          "paper_bgcolor": "white",
          "plot_bgcolor": "#E5ECF6",
          "polar": {
           "angularaxis": {
            "gridcolor": "white",
            "linecolor": "white",
            "ticks": ""
           },
           "bgcolor": "#E5ECF6",
           "radialaxis": {
            "gridcolor": "white",
            "linecolor": "white",
            "ticks": ""
           }
          },
          "scene": {
           "xaxis": {
            "backgroundcolor": "#E5ECF6",
            "gridcolor": "white",
            "gridwidth": 2,
            "linecolor": "white",
            "showbackground": true,
            "ticks": "",
            "zerolinecolor": "white"
           },
           "yaxis": {
            "backgroundcolor": "#E5ECF6",
            "gridcolor": "white",
            "gridwidth": 2,
            "linecolor": "white",
            "showbackground": true,
            "ticks": "",
            "zerolinecolor": "white"
           },
           "zaxis": {
            "backgroundcolor": "#E5ECF6",
            "gridcolor": "white",
            "gridwidth": 2,
            "linecolor": "white",
            "showbackground": true,
            "ticks": "",
            "zerolinecolor": "white"
           }
          },
          "shapedefaults": {
           "line": {
            "color": "#2a3f5f"
           }
          },
          "ternary": {
           "aaxis": {
            "gridcolor": "white",
            "linecolor": "white",
            "ticks": ""
           },
           "baxis": {
            "gridcolor": "white",
            "linecolor": "white",
            "ticks": ""
           },
           "bgcolor": "#E5ECF6",
           "caxis": {
            "gridcolor": "white",
            "linecolor": "white",
            "ticks": ""
           }
          },
          "title": {
           "x": 0.05
          },
          "xaxis": {
           "automargin": true,
           "gridcolor": "white",
           "linecolor": "white",
           "ticks": "",
           "title": {
            "standoff": 15
           },
           "zerolinecolor": "white",
           "zerolinewidth": 2
          },
          "yaxis": {
           "automargin": true,
           "gridcolor": "white",
           "linecolor": "white",
           "ticks": "",
           "title": {
            "standoff": 15
           },
           "zerolinecolor": "white",
           "zerolinewidth": 2
          }
         }
        },
        "title": {
         "text": "Feature importance based on Chi-Squared test"
        },
        "xaxis": {
         "anchor": "y",
         "domain": [
          0,
          1
         ],
         "title": {
          "text": "feature"
         }
        },
        "yaxis": {
         "anchor": "x",
         "domain": [
          0,
          1
         ],
         "title": {
          "text": "feature_score (1-p_value)"
         }
        }
       }
      }
     },
     "metadata": {},
     "output_type": "display_data"
    }
   ],
   "source": [
    "from sklearn.feature_selection import chi2\n",
    "\n",
    "columns_for_heatmap = set(main_df.columns) - set(['customerId', 'accountNumber', 'cardCVV', 'enteredCVV', 'cardLast4Digits'])\n",
    "chi2_scores, p_values = chi2(main_df[columns_for_heatmap], main_df['isFraud'])\n",
    "\n",
    "chi2_df = pd.DataFrame(columns_for_heatmap, 1-p_values).reset_index()\n",
    "chi2_df.columns = ['feature_score (1-p_value)', 'feature']\n",
    "px.bar(chi2_df, y='feature_score (1-p_value)', x='feature', color='feature_score (1-p_value)', color_continuous_scale='Bluyl', title='Feature importance based on Chi-Squared test')"
   ]
  },
  {
   "cell_type": "code",
   "execution_count": 121,
   "id": "4456c827",
   "metadata": {},
   "outputs": [
    {
     "data": {
      "image/png": "[encoded data removed]",
      "text/plain": [
       "<Figure size 1080x720 with 2 Axes>"
      ]
     },
     "metadata": {
      "needs_background": "light"
     },
     "output_type": "display_data"
    }
   ],
   "source": [
    "from seaborn import heatmap\n",
    "import numpy as np\n",
    "\n",
    "plt.rcParams['figure.figsize'] = (15,10)\n",
    "temp = main_df.nunique()\n",
    "columns_for_heatmap = set(temp.index[temp.values>20].values) - set(['customerId', 'accountNumber', 'cardCVV', 'enteredCVV', 'cardLast4Digits', 'merchantName'])\n",
    "correlation_matrix = main_df[columns_for_heatmap].corr()\n",
    "heatmap(correlation_matrix, xticklabels=correlation_matrix.columns, yticklabels=correlation_matrix.columns, linewidths=0.25, linecolor='grey')\n",
    "plt.show()"
   ]
  },
  {
   "cell_type": "markdown",
   "id": "70ece883",
   "metadata": {},
   "source": [
    "# Training models:\n",
    "\n",
    "My intuition is- companies lose more loyal customers $\\approx 33\\%$ due to blocked transactions. An excellent article by Stripe [here](https://stripe.com/guides/primer-on-machine-learning-for-fraud-protection).\n",
    "\n",
    "On the other hand, fraudulent transactions going unnoticed could lead to potential lawsuits, operational dispute fees, etc.\n",
    "\n",
    "A subtle line needs to be drawn and my main focus here is to reduce blocked-transactions of legitimate customers: $Type$-$II$ error. \n",
    "\n",
    "\n",
    "\n",
    "We can design the Null and Alternative Hypothesis as \"A transaction is legitimate until proven otherwise\":\n",
    "\n",
    "> $H_0$ : The transaction is legit.\n",
    "\n",
    "> $H_1$ : The transaction is fraudulent.\n",
    "\n",
    "$Type$-$II$ error would be a $False$ $Negative:$ expected $H_0$ but wrongly predicted $H_1$."
   ]
  },
  {
   "cell_type": "markdown",
   "id": "2eeb3d17",
   "metadata": {},
   "source": [
    "### Defining the Feature-set and Label-set to derive the train-test splits"
   ]
  },
  {
   "cell_type": "code",
   "execution_count": 130,
   "id": "5f2d7416",
   "metadata": {},
   "outputs": [
    {
     "data": {
      "text/plain": [
       "1    773946\n",
       "0     12417\n",
       "Name: isFraud, dtype: int64"
      ]
     },
     "execution_count": 130,
     "metadata": {},
     "output_type": "execute_result"
    }
   ],
   "source": [
    "flip_binary = lambda x: 1 if x==0 else 0\n",
    "main_df['isFraud'] = main_df['isFraud'].apply(flip_binary)\n",
    "main_df['isFraud'].value_counts()"
   ]
  },
  {
   "cell_type": "code",
   "execution_count": 131,
   "id": "c5874812",
   "metadata": {},
   "outputs": [],
   "source": [
    "from sklearn.model_selection import train_test_split\n",
    "from sklearn.metrics import confusion_matrix, accuracy_score, precision_score, recall_score, f1_score\n",
    "\n",
    "feature_cols = set(main_df.columns) - set(['isFraud', 'cardCVV', 'enteredCVV', 'cardLast4Digits', 'accountNumber', 'customerId'])\n",
    "labels = main_df['isFraud']\n",
    "features = main_df[feature_cols]\n",
    "x_train, x_test, y_train, y_test = train_test_split(features, labels, test_size=0.1, stratify=labels)"
   ]
  },
  {
   "cell_type": "code",
   "execution_count": 132,
   "id": "2552230f",
   "metadata": {},
   "outputs": [],
   "source": [
    "def print_neat_metrics(expected, preds, model_name='Logistic-Regression', show_confusion_matrix=False):\n",
    "    print(f'Precision = {round(100*precision_score(expected, preds),2)}%.')\n",
    "    print(f'Recall = {round(100*recall_score(expected, preds),2)}%.')\n",
    "    print(f'Accuracy = {round(100*accuracy_score(expected, preds),2)}%.')\n",
    "    print(f'F1 score = {round(100*f1_score(expected, preds),2)}%.')\n",
    "    \n",
    "    if show_confusion_matrix:\n",
    "        tn, fp, fn, tp = confusion_matrix(expected, preds).ravel()\n",
    "        print(f'Confusion matrix for {model_name} model = \\n\\tTP={tp}  FN={fn}\\n\\tFP={fp}  TN={tn}\\n')\n"
   ]
  },
  {
   "cell_type": "code",
   "execution_count": 133,
   "id": "b342bc77",
   "metadata": {},
   "outputs": [
    {
     "name": "stderr",
     "output_type": "stream",
     "text": [
      "[Parallel(n_jobs=-1)]: Using backend LokyBackend with 8 concurrent workers.\n",
      "[Parallel(n_jobs=-1)]: Done   1 out of   1 | elapsed:   39.7s finished\n"
     ]
    },
    {
     "name": "stdout",
     "output_type": "stream",
     "text": [
      "Precision = 98.42%.\n",
      "Recall = 100.0%.\n",
      "Accuracy = 98.42%.\n",
      "F1 score = 99.2%.\n",
      "Confusion matrix for baseline Logistic-Regression model = \n",
      "\tTP=77395  FN=0\n",
      "\tFP=1242  TN=0\n",
      "\n"
     ]
    }
   ],
   "source": [
    "from sklearn.linear_model import LogisticRegression\n",
    "\n",
    "logistic_model = LogisticRegression(n_jobs=-1, verbose=1).fit(x_train, y_train)\n",
    "preds = logistic_model.predict(x_test)\n",
    "\n",
    "print_neat_metrics(y_test, preds, 'baseline Logistic-Regression', True)"
   ]
  },
  {
   "cell_type": "markdown",
   "id": "de506bac",
   "metadata": {},
   "source": [
    "### Logistic regression just predicts the majority class. 🤔"
   ]
  },
  {
   "cell_type": "markdown",
   "id": "0ecc1713",
   "metadata": {},
   "source": [
    "### Let's look also at Decision Tree, since Logistic Regression is essentially useless here"
   ]
  },
  {
   "cell_type": "code",
   "execution_count": 134,
   "id": "01fdf8b7",
   "metadata": {},
   "outputs": [
    {
     "name": "stdout",
     "output_type": "stream",
     "text": [
      "Precision = 98.67%.\n",
      "Recall = 98.19%.\n",
      "Accuracy = 96.92%.\n",
      "F1 score = 98.43%.\n",
      "Confusion matrix for baseline Decision-Tree model = \n",
      "\tTP=75994  FN=1401\n",
      "\tFP=1024  TN=218\n",
      "\n"
     ]
    }
   ],
   "source": [
    "from sklearn.tree import DecisionTreeClassifier\n",
    "\n",
    "decision_tree = DecisionTreeClassifier().fit(x_train, y_train)\n",
    "preds = decision_tree.predict(x_test)\n",
    "\n",
    "print_neat_metrics(y_test, preds, 'baseline Decision-Tree', True)"
   ]
  },
  {
   "cell_type": "code",
   "execution_count": 147,
   "id": "56631ef0",
   "metadata": {},
   "outputs": [
    {
     "name": "stdout",
     "output_type": "stream",
     "text": [
      "Train-stratification: 1.58%, Test-stratification: 1.58%\n",
      "Precision = 98.69%.\n",
      "Recall = 98.25%.\n",
      "Accuracy = 96.99%.\n",
      "F1 score = 98.47%.\n",
      "Confusion matrix for baseline Decision-Tree model = \n",
      "\tTP=76040  FN=1355\n",
      "\tFP=1013  TN=229\n",
      "\n",
      "Train-stratification: 1.58%, Test-stratification: 1.58%\n",
      "Precision = 98.66%.\n",
      "Recall = 98.09%.\n",
      "Accuracy = 96.8%.\n",
      "F1 score = 98.37%.\n",
      "Confusion matrix for baseline Decision-Tree model = \n",
      "\tTP=75915  FN=1480\n",
      "\tFP=1034  TN=208\n",
      "\n",
      "Train-stratification: 1.58%, Test-stratification: 1.58%\n",
      "Precision = 98.67%.\n",
      "Recall = 98.18%.\n",
      "Accuracy = 96.91%.\n",
      "F1 score = 98.43%.\n",
      "Confusion matrix for baseline Decision-Tree model = \n",
      "\tTP=75989  FN=1406\n",
      "\tFP=1024  TN=218\n",
      "\n",
      "Train-stratification: 1.58%, Test-stratification: 1.58%\n",
      "Precision = 98.65%.\n",
      "Recall = 98.17%.\n",
      "Accuracy = 96.88%.\n",
      "F1 score = 98.41%.\n",
      "Confusion matrix for baseline Decision-Tree model = \n",
      "\tTP=75978  FN=1417\n",
      "\tFP=1039  TN=202\n",
      "\n",
      "Train-stratification: 1.58%, Test-stratification: 1.58%\n",
      "Precision = 98.66%.\n",
      "Recall = 98.22%.\n",
      "Accuracy = 96.93%.\n",
      "F1 score = 98.44%.\n",
      "Confusion matrix for baseline Decision-Tree model = \n",
      "\tTP=76016  FN=1379\n",
      "\tFP=1033  TN=208\n",
      "\n",
      "Train-stratification: 1.58%, Test-stratification: 1.58%\n",
      "Precision = 98.67%.\n",
      "Recall = 98.11%.\n",
      "Accuracy = 96.83%.\n",
      "F1 score = 98.39%.\n",
      "Confusion matrix for baseline Decision-Tree model = \n",
      "\tTP=75929  FN=1466\n",
      "\tFP=1026  TN=215\n",
      "\n",
      "Train-stratification: 1.58%, Test-stratification: 1.58%\n",
      "Precision = 98.71%.\n",
      "Recall = 98.32%.\n",
      "Accuracy = 97.08%.\n",
      "F1 score = 98.51%.\n",
      "Confusion matrix for baseline Decision-Tree model = \n",
      "\tTP=76093  FN=1301\n",
      "\tFP=997  TN=245\n",
      "\n",
      "Train-stratification: 1.58%, Test-stratification: 1.58%\n",
      "Precision = 98.69%.\n",
      "Recall = 98.23%.\n",
      "Accuracy = 96.98%.\n",
      "F1 score = 98.46%.\n",
      "Confusion matrix for baseline Decision-Tree model = \n",
      "\tTP=76024  FN=1370\n",
      "\tFP=1006  TN=236\n",
      "\n",
      "Train-stratification: 1.58%, Test-stratification: 1.58%\n",
      "Precision = 98.67%.\n",
      "Recall = 98.26%.\n",
      "Accuracy = 96.98%.\n",
      "F1 score = 98.46%.\n",
      "Confusion matrix for baseline Decision-Tree model = \n",
      "\tTP=76045  FN=1349\n",
      "\tFP=1028  TN=214\n",
      "\n",
      "Train-stratification: 1.58%, Test-stratification: 1.58%\n",
      "Precision = 98.66%.\n",
      "Recall = 98.12%.\n",
      "Accuracy = 96.84%.\n",
      "F1 score = 98.39%.\n",
      "Confusion matrix for baseline Decision-Tree model = \n",
      "\tTP=75937  FN=1457\n",
      "\tFP=1029  TN=213\n",
      "\n"
     ]
    }
   ],
   "source": [
    "from sklearn.model_selection import StratifiedKFold\n",
    "strat_kfold_cv = StratifiedKFold(n_splits=10, shuffle=True)\n",
    "\n",
    "\n",
    "\n",
    "for train_i, test_i in strat_kfold_cv.split(features, labels):\n",
    "    x_train, x_test = features.iloc[train_i], features.iloc[test_i]\n",
    "    y_train, y_test = labels.iloc[train_i], labels.iloc[test_i]\n",
    "    print(f'Train-stratification: {round(y_train.value_counts()[0]/y_train.count()*100,2)}%, Test-stratification: {round(y_test.value_counts()[0]/y_test.count()*100,2)}%')\n",
    "    decision_tree.fit(x_train, y_train)\n",
    "    preds = decision_tree.predict(x_test)\n",
    "    print_neat_metrics(y_test, preds, 'baseline Decision-Tree', True)"
   ]
  },
  {
   "cell_type": "markdown",
   "id": "304307df",
   "metadata": {},
   "source": [
    "### Atleast now we get a practical prediction rather than just the majority class 🙂\n",
    "On average baseline has a good $Recall$ ($True Positive Rate$) $\\approx 98\\%$, and equivalently a good $Precision$ $\\approx 98\\%$."
   ]
  },
  {
   "cell_type": "markdown",
   "id": "03931ade",
   "metadata": {},
   "source": [
    "### Using a more complex Random-Forest model than baseline Logistic or Decision Tree\n",
    "Isolation Forest is known to work well with highly-unbalanced sparse datasets (resembling Anomaly detection)."
   ]
  },
  {
   "cell_type": "code",
   "execution_count": 150,
   "id": "ad24561b",
   "metadata": {},
   "outputs": [
    {
     "name": "stdout",
     "output_type": "stream",
     "text": [
      "Fitting 10 folds for each of 6 candidates, totalling 60 fits\n"
     ]
    },
    {
     "data": {
      "text/plain": [
       "GridSearchCV(cv=StratifiedKFold(n_splits=10, random_state=None, shuffle=True),\n",
       "             estimator=RandomForestClassifier(),\n",
       "             param_grid={'max_depth': [5, None], 'min_samples_split': [4],\n",
       "                         'n_estimators': [50, 100, 200], 'n_jobs': [-1],\n",
       "                         'random_state': [1]},\n",
       "             verbose=1)"
      ]
     },
     "execution_count": 150,
     "metadata": {},
     "output_type": "execute_result"
    }
   ],
   "source": [
    "from sklearn.ensemble import IsolationForest, RandomForestClassifier\n",
    "from sklearn.model_selection import GridSearchCV\n",
    "\n",
    "param_grid = {\n",
    "    'n_estimators' : [50, 100, 200],\n",
    "    'max_depth' : [5, None],\n",
    "    'random_state' : [1],\n",
    "    'min_samples_split' : [4],\n",
    "    'n_jobs' : [-1]\n",
    "}\n",
    "random_forest = RandomForestClassifier()\n",
    "\n",
    "cv_output = GridSearchCV(random_forest, param_grid=param_grid, cv=strat_kfold_cv, verbose=1).fit(features, labels)\n",
    "cv_output"
   ]
  },
  {
   "cell_type": "code",
   "execution_count": 163,
   "id": "64057ae4",
   "metadata": {},
   "outputs": [
    {
     "name": "stdout",
     "output_type": "stream",
     "text": [
      "Best random-forest after grid-search has n_trees: 100, and max-depth of trees: None\n",
      "Precision = 99.51%.\n",
      "Recall = 100.0%.\n",
      "Accuracy = 99.52%.\n",
      "F1 score = 99.76%.\n",
      "Confusion matrix for Best Random-Forest model = \n",
      "\tTP=77395  FN=0\n",
      "\tFP=378  TN=864\n",
      "\n",
      "Precision = 99.49%.\n",
      "Recall = 100.0%.\n",
      "Accuracy = 99.5%.\n",
      "F1 score = 99.74%.\n",
      "Confusion matrix for Best Random-Forest model = \n",
      "\tTP=77395  FN=0\n",
      "\tFP=396  TN=846\n",
      "\n",
      "Precision = 99.52%.\n",
      "Recall = 100.0%.\n",
      "Accuracy = 99.52%.\n",
      "F1 score = 99.76%.\n",
      "Confusion matrix for Best Random-Forest model = \n",
      "\tTP=77395  FN=0\n",
      "\tFP=376  TN=866\n",
      "\n",
      "Precision = 99.54%.\n",
      "Recall = 100.0%.\n",
      "Accuracy = 99.54%.\n",
      "F1 score = 99.77%.\n",
      "Confusion matrix for Best Random-Forest model = \n",
      "\tTP=77395  FN=0\n",
      "\tFP=360  TN=881\n",
      "\n",
      "Precision = 99.54%.\n",
      "Recall = 100.0%.\n",
      "Accuracy = 99.55%.\n",
      "F1 score = 99.77%.\n",
      "Confusion matrix for Best Random-Forest model = \n",
      "\tTP=77395  FN=0\n",
      "\tFP=357  TN=884\n",
      "\n",
      "Precision = 99.55%.\n",
      "Recall = 100.0%.\n",
      "Accuracy = 99.56%.\n",
      "F1 score = 99.78%.\n",
      "Confusion matrix for Best Random-Forest model = \n",
      "\tTP=77395  FN=0\n",
      "\tFP=349  TN=892\n",
      "\n",
      "Precision = 99.53%.\n",
      "Recall = 100.0%.\n",
      "Accuracy = 99.54%.\n",
      "F1 score = 99.77%.\n",
      "Confusion matrix for Best Random-Forest model = \n",
      "\tTP=77394  FN=0\n",
      "\tFP=362  TN=880\n",
      "\n",
      "Precision = 99.49%.\n",
      "Recall = 100.0%.\n",
      "Accuracy = 99.5%.\n",
      "F1 score = 99.75%.\n",
      "Confusion matrix for Best Random-Forest model = \n",
      "\tTP=77394  FN=0\n",
      "\tFP=393  TN=849\n",
      "\n",
      "Precision = 99.53%.\n",
      "Recall = 100.0%.\n",
      "Accuracy = 99.53%.\n",
      "F1 score = 99.76%.\n",
      "Confusion matrix for Best Random-Forest model = \n",
      "\tTP=77394  FN=0\n",
      "\tFP=369  TN=873\n",
      "\n",
      "Precision = 99.52%.\n",
      "Recall = 100.0%.\n",
      "Accuracy = 99.53%.\n",
      "F1 score = 99.76%.\n",
      "Confusion matrix for Best Random-Forest model = \n",
      "\tTP=77394  FN=0\n",
      "\tFP=372  TN=870\n",
      "\n"
     ]
    }
   ],
   "source": [
    "print(f'Best random-forest after grid-search has n_trees: {cv_output.best_estimator_.n_estimators}, and max-depth of trees: {cv_output.best_estimator_.max_depth}')\n",
    "\n",
    "for train_i, test_i in strat_kfold_cv.split(features, labels):\n",
    "    x_train, x_test = features.iloc[train_i], features.iloc[test_i]\n",
    "    y_train, y_test = labels.iloc[train_i], labels.iloc[test_i]\n",
    "    preds = cv_output.best_estimator_.predict(x_test)\n",
    "    print_neat_metrics(y_test, preds, 'Best Random-Forest', True)"
   ]
  },
  {
   "cell_type": "code",
   "execution_count": 157,
   "id": "2c4e5c56",
   "metadata": {},
   "outputs": [
    {
     "name": "stdout",
     "output_type": "stream",
     "text": [
      "Precision = 98.46%.\n",
      "Recall = 83.21%.\n",
      "Accuracy = 82.2%.\n",
      "F1 score = 90.2%.\n",
      "Confusion matrix for Isolation-Forest model = \n",
      "\tTP=64403  FN=12992\n",
      "\tFP=1007  TN=235\n",
      "\n",
      "Precision = 98.45%.\n",
      "Recall = 79.42%.\n",
      "Accuracy = 78.52%.\n",
      "F1 score = 87.92%.\n",
      "Confusion matrix for Isolation-Forest model = \n",
      "\tTP=61466  FN=15929\n",
      "\tFP=965  TN=277\n",
      "\n",
      "Precision = 98.46%.\n",
      "Recall = 82.54%.\n",
      "Accuracy = 81.54%.\n",
      "F1 score = 89.8%.\n",
      "Confusion matrix for Isolation-Forest model = \n",
      "\tTP=63879  FN=13516\n",
      "\tFP=1001  TN=241\n",
      "\n",
      "Precision = 98.42%.\n",
      "Recall = 83.91%.\n",
      "Accuracy = 82.84%.\n",
      "F1 score = 90.59%.\n",
      "Confusion matrix for Isolation-Forest model = \n",
      "\tTP=64944  FN=12451\n",
      "\tFP=1043  TN=198\n",
      "\n",
      "Precision = 98.46%.\n",
      "Recall = 82.04%.\n",
      "Accuracy = 81.06%.\n",
      "F1 score = 89.5%.\n",
      "Confusion matrix for Isolation-Forest model = \n",
      "\tTP=63498  FN=13897\n",
      "\tFP=996  TN=245\n",
      "\n",
      "Precision = 98.49%.\n",
      "Recall = 82.25%.\n",
      "Accuracy = 81.29%.\n",
      "F1 score = 89.64%.\n",
      "Confusion matrix for Isolation-Forest model = \n",
      "\tTP=63657  FN=13738\n",
      "\tFP=976  TN=265\n",
      "\n",
      "Precision = 98.48%.\n",
      "Recall = 82.86%.\n",
      "Accuracy = 81.87%.\n",
      "F1 score = 90.0%.\n",
      "Confusion matrix for Isolation-Forest model = \n",
      "\tTP=64126  FN=13268\n",
      "\tFP=988  TN=254\n",
      "\n",
      "Precision = 98.47%.\n",
      "Recall = 82.14%.\n",
      "Accuracy = 81.17%.\n",
      "F1 score = 89.57%.\n",
      "Confusion matrix for Isolation-Forest model = \n",
      "\tTP=63574  FN=13820\n",
      "\tFP=990  TN=252\n",
      "\n",
      "Precision = 98.49%.\n",
      "Recall = 85.55%.\n",
      "Accuracy = 84.49%.\n",
      "F1 score = 91.57%.\n",
      "Confusion matrix for Isolation-Forest model = \n",
      "\tTP=66213  FN=11181\n",
      "\tFP=1013  TN=229\n",
      "\n",
      "Precision = 98.48%.\n",
      "Recall = 86.17%.\n",
      "Accuracy = 85.08%.\n",
      "F1 score = 91.91%.\n",
      "Confusion matrix for Isolation-Forest model = \n",
      "\tTP=66691  FN=10703\n",
      "\tFP=1032  TN=210\n",
      "\n"
     ]
    }
   ],
   "source": [
    "iso_forest = IsolationForest(n_jobs=-1)\n",
    "\n",
    "for train_i, test_i in strat_kfold_cv.split(features, labels):\n",
    "    x_train, x_test = features.iloc[train_i], features.iloc[test_i]\n",
    "    y_train, y_test = labels.iloc[train_i], labels.iloc[test_i]\n",
    "    iso_forest.fit(x_train, y_train)\n",
    "    preds = iso_forest.predict(x_test)\n",
    "    preds = np.where(preds==-1, 0, preds)\n",
    "    print_neat_metrics(y_test, preds, 'Isolation-Forest', True)"
   ]
  },
  {
   "cell_type": "markdown",
   "id": "66544e40",
   "metadata": {},
   "source": [
    "### Random Forest seems to perform better than the theoretically better Isolation Forest\n",
    "\n",
    "Random-Forest gives an excellent $Recall$ $\\approx 99.9\\%$, and great $Precision$ $\\approx 98\\%$.\n",
    "\n",
    "> Essentially, it will **very rarely** falsely accuse a legitimate-transaction as being fraudulent (Type-II error).\n",
    "\n",
    "Seems like a good candidate for final predictions."
   ]
  },
  {
   "cell_type": "code",
   "execution_count": 158,
   "id": "8f055036",
   "metadata": {},
   "outputs": [
    {
     "data": {
      "image/png": "[encoded data removed]",
      "text/plain": [
       "<Figure size 1080x720 with 1 Axes>"
      ]
     },
     "metadata": {
      "needs_background": "light"
     },
     "output_type": "display_data"
    }
   ],
   "source": [
    "importances = pd.DataFrame(cv_output.best_estimator_.feature_importances_)\n",
    "importances.index = features.columns\n",
    "importances = importances.sort_values(by=0)\n",
    "fig, ax = plt.subplots()\n",
    "ax.barh(importances.index, importances.to_numpy().flatten())\n",
    "plt.show()"
   ]
  },
  {
   "cell_type": "code",
   "execution_count": null,
   "id": "2489f54a",
   "metadata": {},
   "outputs": [],
   "source": []
  }
 ],
 "metadata": {
  "interpreter": {
   "hash": "4bf06b8021c62b15361c0f1ff6f7b4a98d4739984d2745f50473cee6c668c345"
  },
  "kernelspec": {
   "display_name": "Python 3.8.8 ('base')",
   "language": "python",
   "name": "python3"
  },
  "language_info": {
   "codemirror_mode": {
    "name": "ipython",
    "version": 3
   },
   "file_extension": ".py",
   "mimetype": "text/x-python",
   "name": "python",
   "nbconvert_exporter": "python",
   "pygments_lexer": "ipython3",
   "version": "3.8.8"
  }
 },
 "nbformat": 4,
 "nbformat_minor": 5
}
